{
 "cells": [
  {
   "cell_type": "markdown",
   "metadata": {},
   "source": [
    "# Module 2 Summative Lab\n",
    "\n",
    "## Introduction\n",
    "\n",
    "For today's section, we're going to work on a single big lab to apply everything we've learned in Module 2!\n",
    "\n",
    "## About This Lab\n",
    "\n",
    "A quick note before getting started--this lab isn't like other labs you seen so far. This lab is meant to take ~8 hours to complete, so it's much longer and more challenging that the average labs you've seen so far. If you feel like this lab is challenging or that you might be struggling a bit, don't fret--that's by design! With everything we've learned about Web Scraping, APIs, and Databases, the best way to test our knowledge of it is to build something substantial! \n",
    "\n",
    "## The Project\n",
    "\n",
    "In this lab, we're going to make use of everything we've learned about APIs, databases, and Object-Oriented Programming to **_Extract, Transform, and Load_** (or **_ETL_**, for short) some data from a SQL database into a MongoDB Database. \n",
    "\n",
    "You'll find a database containing information about soccer teams and the matches they've played in the file `database.sqlite`. For this project, our goal is to get the data we think is important from this SQL database, do some calculations and data transformation, and then store everything in a MongoDB database. \n",
    "\n",
    "Let's get into the specifics of this project.\n",
    "\n",
    "### The Goal\n",
    "\n",
    "Start by examining the data dictionary for the SQL database we'll be working with, which comes from this [kaggle page](https://www.kaggle.com/laudanum/footballdelphi).  Familiarize yourself with the tables it contains, and what each column means. We'll be using this database to get data on each soccer team, calculate some summary statistics, and then store each in a MongoDB database. \n",
    "\n",
    "Upon completion of this lab, each unique team in this dataset should have a record in the MongoDB instance containing the following information:\n",
    "\n",
    "* The name of the team\n",
    "* The total number of goals scored by the team during the 2011 season\n",
    "* The total number of wins the team earned during the 2011 season\n",
    "* A histogram visualization of the team's wins and losses for the 2011 season (store the visualization directly)\n",
    "* The team's win percentage on days where it was raining during games in the 2011 season. \n",
    "\n",
    "#### Getting the Weather Data\n",
    "\n",
    "Note that for this last calculation, you'll need to figure out if it was raining or not during the game. The database itself does not contain this information, but it does contain the date on which the game was played. For this, you'll need to use the [DarkSky API](https://darksky.net/dev) to get the historical weather data for that day. Note that each game is played in a different location, and this information is not contained in our SQL database. However, the teams in this database are largely german, so go ahead and just use the weather in Berlin, Germany as a proxy for this information. If it was raining in Berlin on the day the game was played, count that as rain game--**_you do not need to try and figure out the actual weather at each game's location, because we don't have that information!_**\n",
    "\n",
    "#### NOTE: The DarkSky API is limited to 1000 free API calls a day, so be sure to test your model on very small samples. Otherwise, you'll hit the rate limit!\n",
    "\n",
    "## Project Architecture\n",
    "\n",
    "Unlike previous labs, this lab is more open-ended, and will require you to make design decisions and plan out your strategy for building a system with this many working parts. However, **_using Object-Oriented Programming is a requirement for this project--you must create at least 2 separate, well structured classes in your solution!_** Although it may seem easier to \"just start coding\", this is a classic beginner's mistake. Instead, think about separating out the different functionalities you'll need to reach your goal, and then build classes to handle each. For instance, at minimum, you'll need to:\n",
    "\n",
    "* Query the SQL database\n",
    "* Calculate summary statistics\n",
    "* Get the weather data from the DarkSky API\n",
    "* Load the data into MongoDB\n",
    "\n",
    "We **_strongly recommend_** you consider creating separate classes for handling at least some of these of these tasks.  Be sure to plan the inputs, outputs, and methods for each class before you begin coding! \n",
    "\n",
    "**_NOTE:_** We have provided some empty classes below. You are welcome to delete them and use a different architecture for this project if you so choose.  You do not have to use each of them, they are just there to give you an idea of what you could sorts of classes you may want to consider using.\n",
    "\n",
    "### Rapid Prototyping and Refactoring\n",
    "\n",
    "It's totally okay to try to get a task working without using OOP. For instance, when experimenting with the DarkSky API for getting historical weather data, it makes sense to just write the code in the cells and rapidly iterate until you get it all working. However, once you get it working, you're not done--you should then **_Refactor_** your code into functions or classes to make your code more modular, reusable, understandable, and maintainable! \n",
    "\n",
    "In short--do what you need to do to get each separate piece of functionality working, and then refactor it into a class after you've figured it out!\n",
    "\n",
    "### Some Final Advice\n",
    "\n",
    "You haven't built anything this big or complex thus far, so you may not yet fully realize how much trial and error goes into it. If your code keeps breaking, resist the urge to get frustrated, and just keep working. Software development is an iterative process!  No one writes perfect code that works the first time for something this involved. You're going to run into _a lot_ of small errors in this project, right up until the point where it just works, and then you're done! However, you can reduce these errors by planning out your code, and thinking about how all of the pieces fit together before you begin coding. Once you have some basic understanding of how it all will work, then you'll know what you need to build, and then all that is left is to build it!\n",
    "\n",
    "In short:\n",
    "\n",
    "* Plan ahead--you'll thank yourself later!\n",
    "* Errors and broken code aren't bad, they're normal. \n",
    "* Keep working, and stay confident--you can do this!\n",
    "\n",
    "Good luck--we look forward to seeing your completed project!"
   ]
  },
  {
   "cell_type": "markdown",
   "metadata": {},
   "source": [
    "# Summary"
   ]
  },
  {
   "cell_type": "markdown",
   "metadata": {},
   "source": [
    "## Database information"
   ]
  },
  {
   "cell_type": "markdown",
   "metadata": {},
   "source": [
    "![tables](tables.png)"
   ]
  },
  {
   "cell_type": "markdown",
   "metadata": {},
   "source": [
    "### Table: Matches\n",
    "\n",
    "Match_ID (int): unique ID per match\n",
    "Div (str): identifies the division the match was played in (D1 = Bundesliga, D2 = Bundesliga 2, E0 = English Premier League)\n",
    "\n",
    "Season (int): Season the match took place in (usually covering the period of August till May of the following year)\n",
    "\n",
    "Date (str): Date of the match\n",
    "\n",
    "HomeTeam (str): Name of the home team\n",
    "\n",
    "AwayTeam (str): Name of the away team\n",
    "\n",
    "FTHG (int) (Full Time Home Goals): Number of goals scored by the home team\n",
    "\n",
    "FTAG (int) (Full Time Away Goals): Number of goals scored by the away team\n",
    "\n",
    "FTR (str) (Full Time Result): 3-way result of the match (H = Home Win, D = Draw, A = Away Win)\n",
    "\n",
    "### Table: Teams\n",
    "\n",
    "Season (str): Football season for which the data is valid\n",
    "\n",
    "TeamName (str): Name of the team the data concerns\n",
    "\n",
    "KaderHome (str): Number of Players in the squad\n",
    "\n",
    "AvgAgeHome (str): Average age of players\n",
    "\n",
    "ForeignPlayersHome (str): Number of foreign players (non-German, non-English respectively) playing for the team\n",
    "\n",
    "OverallMarketValueHome (str): Overall market value of the team pre-season in EUR (based on data from transfermarkt.de)\n",
    "\n",
    "AvgMarketValueHome (str): Average market value (per player) of the team pre-season in EUR (based on data from transfermarkt.de)\n",
    "\n",
    "StadiumCapacity (str): Maximum stadium capacity of the team's home stadium\n",
    "\n",
    "### Table: Unique Teams\n",
    "\n",
    "TeamName (str): Name of a team\n",
    "\n",
    "Unique_Team_ID (int): Unique identifier for each team\n",
    "\n",
    "### Table: Teams_in_Matches\n",
    "\n",
    "Match_ID (int): Unique match ID\n",
    "\n",
    "Unique_Team_ID (int): Unique team ID (This table is used to easily retrieve each match a given team has played in)"
   ]
  },
  {
   "cell_type": "markdown",
   "metadata": {},
   "source": [
    "## Links\n",
    "https://www.kaggle.com/laudanum/footballdelphi\n",
    "\n",
    "https://darksky.net/dev"
   ]
  },
  {
   "cell_type": "markdown",
   "metadata": {},
   "source": [
    "## Notes"
   ]
  },
  {
   "cell_type": "markdown",
   "metadata": {},
   "source": [
    "Upon completion of this lab, each unique team in this dataset should have a record in the MongoDB instance containing the following information:\n",
    "\n",
    "* The name of the team\n",
    "* The total number of goals scored by the team during the 2011 season\n",
    "* The total number of wins the team earned during the 2011 season\n",
    "* A histogram visualization of the team's wins and losses for the 2011 season (store the visualization directly)\n",
    "* The team's win percentage on days where it was raining during games in the 2011 season. \n",
    "\n",
    "Use the weather in Berlin, Germany.\n",
    "The DarkSky API is limited to 1000 free API calls a day.\n",
    "\n",
    "You must create at least 2 separate, well structured classes in your solution.\n",
    "\n",
    "* Query the SQL database\n",
    "* Calculate summary statistics\n",
    "* Get the weather data from the DarkSky API\n",
    "* Load the data into MongoDB"
   ]
  },
  {
   "cell_type": "markdown",
   "metadata": {},
   "source": [
    "## Example classes"
   ]
  },
  {
   "cell_type": "code",
   "execution_count": 1,
   "metadata": {
    "collapsed": true
   },
   "outputs": [],
   "source": [
    "# You don't have to use these classes, but we recommend them as a good place to start!\n",
    "class WeatherGetter():\n",
    "    pass"
   ]
  },
  {
   "cell_type": "code",
   "execution_count": 2,
   "metadata": {
    "collapsed": true
   },
   "outputs": [],
   "source": [
    "class MongoHandler():\n",
    "    pass"
   ]
  },
  {
   "cell_type": "markdown",
   "metadata": {},
   "source": [
    "## Useful functions"
   ]
  },
  {
   "cell_type": "code",
   "execution_count": 3,
   "metadata": {
    "collapsed": true
   },
   "outputs": [],
   "source": [
    "def connect_to_sql_database(database_file_name):\n",
    "    import sqlite3\n",
    "    connection = sqlite3.connect(database_file_name)\n",
    "    cursor = connection.cursor()\n",
    "    return connection, cursor"
   ]
  },
  {
   "cell_type": "code",
   "execution_count": 4,
   "metadata": {
    "collapsed": true
   },
   "outputs": [],
   "source": [
    "def sql_query_to_df(cursor, sql_query):\n",
    "    import pandas as pd\n",
    "    c.execute(sql_query)\n",
    "    df = pd.DataFrame(c.fetchall())\n",
    "    df.columns = [x[0] for x in c.description]\n",
    "    return df"
   ]
  },
  {
   "cell_type": "code",
   "execution_count": 38,
   "metadata": {
    "collapsed": true
   },
   "outputs": [],
   "source": [
    "def sql_query_to_list_of_dicts(cursor, sql_query, list_of_cols=None):\n",
    "    import pandas as pd\n",
    "    c.execute(sql_query)\n",
    "    df = pd.DataFrame(c.fetchall())\n",
    "    df.columns = [x[0] for x in c.description]\n",
    "    list_of_dicts = convert_df_to_list_of_dicts(df, list_of_cols=list_of_cols)\n",
    "    return list_of_dicts"
   ]
  },
  {
   "cell_type": "code",
   "execution_count": 5,
   "metadata": {
    "collapsed": true
   },
   "outputs": [],
   "source": [
    "def get_all_tables_from_sql_database(cursor):\n",
    "    df = sql_query_to_df(c, \"\"\"SELECT \n",
    "                                    name\n",
    "                                FROM \n",
    "                                    sqlite_master \n",
    "                                WHERE \n",
    "                                    type ='table' AND \n",
    "                                    name NOT LIKE 'sqlite_%';\"\"\")\n",
    "    return df"
   ]
  },
  {
   "cell_type": "code",
   "execution_count": 6,
   "metadata": {
    "collapsed": true
   },
   "outputs": [],
   "source": [
    "def get_darksky_api_key(apikeyfilename=\"DARKSKYAPIKEY\"):\n",
    "    with open(apikeyfilename, 'r') as f:\n",
    "        api_key = f.readlines()[0].strip()\n",
    "    return api_key"
   ]
  },
  {
   "cell_type": "code",
   "execution_count": 7,
   "metadata": {
    "collapsed": true
   },
   "outputs": [],
   "source": [
    "def get_time_from_date_string(date_string):\n",
    "    import datetime, time\n",
    "    date_time_obj = datetime.datetime.strptime(date_string, '%Y-%m-%d')\n",
    "    time_to_return = int(time.mktime(date_time_obj.timetuple()))\n",
    "    return time_to_return"
   ]
  },
  {
   "cell_type": "code",
   "execution_count": 8,
   "metadata": {
    "collapsed": true
   },
   "outputs": [],
   "source": [
    "def get_weather(lat, lon, date_string, darksky_api_key=get_darksky_api_key()):\n",
    "    import requests\n",
    "    time_to_request = get_time_from_date_string(date_string)\n",
    "    url = f\"https://api.darksky.net/forecast/{darksky_api_key}/{lat},{lon},{time_to_request}\"\n",
    "    response = requests.get(url)\n",
    "    return response"
   ]
  },
  {
   "cell_type": "code",
   "execution_count": 9,
   "metadata": {
    "collapsed": true
   },
   "outputs": [],
   "source": [
    "def get_weather_in_berlin(date_string):\n",
    "    return get_weather(52.520645, 13.409779, date_string)"
   ]
  },
  {
   "cell_type": "code",
   "execution_count": 10,
   "metadata": {
    "collapsed": true
   },
   "outputs": [],
   "source": [
    "def did_it_rain_in_berlin(date_string):\n",
    "    response = get_weather_in_berlin(date_string)\n",
    "    rained = \"precipType\" in response.json()['daily']['data'][0].keys() and \\\n",
    "    response.json()['daily']['data'][0][\"precipType\"] == \"rain\"\n",
    "    return rained"
   ]
  },
  {
   "cell_type": "markdown",
   "metadata": {},
   "source": [
    "# Another tables representation"
   ]
  },
  {
   "cell_type": "markdown",
   "metadata": {},
   "source": [
    "<img src=\"tables2.png\" alt=\"drawing\" width=\"50%\"/>"
   ]
  },
  {
   "cell_type": "markdown",
   "metadata": {},
   "source": [
    "Made using the free version of [dbvis](http://www.dbvis.com)"
   ]
  },
  {
   "cell_type": "markdown",
   "metadata": {},
   "source": [
    "# Initial exploration"
   ]
  },
  {
   "cell_type": "code",
   "execution_count": 11,
   "metadata": {
    "collapsed": true
   },
   "outputs": [],
   "source": [
    "conn, c = connect_to_sql_database('database.sqlite')"
   ]
  },
  {
   "cell_type": "markdown",
   "metadata": {},
   "source": [
    "### List of all tables in database"
   ]
  },
  {
   "cell_type": "code",
   "execution_count": 12,
   "metadata": {},
   "outputs": [
    {
     "data": {
      "text/html": [
       "<div>\n",
       "<style scoped>\n",
       "    .dataframe tbody tr th:only-of-type {\n",
       "        vertical-align: middle;\n",
       "    }\n",
       "\n",
       "    .dataframe tbody tr th {\n",
       "        vertical-align: top;\n",
       "    }\n",
       "\n",
       "    .dataframe thead th {\n",
       "        text-align: right;\n",
       "    }\n",
       "</style>\n",
       "<table border=\"1\" class=\"dataframe\">\n",
       "  <thead>\n",
       "    <tr style=\"text-align: right;\">\n",
       "      <th></th>\n",
       "      <th>name</th>\n",
       "    </tr>\n",
       "  </thead>\n",
       "  <tbody>\n",
       "    <tr>\n",
       "      <th>0</th>\n",
       "      <td>Matches</td>\n",
       "    </tr>\n",
       "    <tr>\n",
       "      <th>1</th>\n",
       "      <td>Teams_in_Matches</td>\n",
       "    </tr>\n",
       "    <tr>\n",
       "      <th>2</th>\n",
       "      <td>Teams</td>\n",
       "    </tr>\n",
       "    <tr>\n",
       "      <th>3</th>\n",
       "      <td>Unique_Teams</td>\n",
       "    </tr>\n",
       "  </tbody>\n",
       "</table>\n",
       "</div>"
      ],
      "text/plain": [
       "               name\n",
       "0           Matches\n",
       "1  Teams_in_Matches\n",
       "2             Teams\n",
       "3      Unique_Teams"
      ]
     },
     "execution_count": 12,
     "metadata": {},
     "output_type": "execute_result"
    }
   ],
   "source": [
    "df = get_all_tables_from_sql_database(c)\n",
    "df"
   ]
  },
  {
   "cell_type": "markdown",
   "metadata": {},
   "source": [
    "Note that the sqlite_sequence table is explicitly excluded from the list based on the NOT LIKE clause."
   ]
  },
  {
   "cell_type": "markdown",
   "metadata": {},
   "source": [
    "### Matches"
   ]
  },
  {
   "cell_type": "code",
   "execution_count": 13,
   "metadata": {},
   "outputs": [
    {
     "data": {
      "text/html": [
       "<div>\n",
       "<style scoped>\n",
       "    .dataframe tbody tr th:only-of-type {\n",
       "        vertical-align: middle;\n",
       "    }\n",
       "\n",
       "    .dataframe tbody tr th {\n",
       "        vertical-align: top;\n",
       "    }\n",
       "\n",
       "    .dataframe thead th {\n",
       "        text-align: right;\n",
       "    }\n",
       "</style>\n",
       "<table border=\"1\" class=\"dataframe\">\n",
       "  <thead>\n",
       "    <tr style=\"text-align: right;\">\n",
       "      <th></th>\n",
       "      <th>Match_ID</th>\n",
       "      <th>Div</th>\n",
       "      <th>Season</th>\n",
       "      <th>Date</th>\n",
       "      <th>HomeTeam</th>\n",
       "      <th>AwayTeam</th>\n",
       "      <th>FTHG</th>\n",
       "      <th>FTAG</th>\n",
       "      <th>FTR</th>\n",
       "    </tr>\n",
       "  </thead>\n",
       "  <tbody>\n",
       "    <tr>\n",
       "      <th>0</th>\n",
       "      <td>1</td>\n",
       "      <td>D2</td>\n",
       "      <td>2009</td>\n",
       "      <td>2010-04-04</td>\n",
       "      <td>Oberhausen</td>\n",
       "      <td>Kaiserslautern</td>\n",
       "      <td>2</td>\n",
       "      <td>1</td>\n",
       "      <td>H</td>\n",
       "    </tr>\n",
       "    <tr>\n",
       "      <th>1</th>\n",
       "      <td>2</td>\n",
       "      <td>D2</td>\n",
       "      <td>2009</td>\n",
       "      <td>2009-11-01</td>\n",
       "      <td>Munich 1860</td>\n",
       "      <td>Kaiserslautern</td>\n",
       "      <td>0</td>\n",
       "      <td>1</td>\n",
       "      <td>A</td>\n",
       "    </tr>\n",
       "    <tr>\n",
       "      <th>2</th>\n",
       "      <td>3</td>\n",
       "      <td>D2</td>\n",
       "      <td>2009</td>\n",
       "      <td>2009-10-04</td>\n",
       "      <td>Frankfurt FSV</td>\n",
       "      <td>Kaiserslautern</td>\n",
       "      <td>1</td>\n",
       "      <td>1</td>\n",
       "      <td>D</td>\n",
       "    </tr>\n",
       "    <tr>\n",
       "      <th>3</th>\n",
       "      <td>4</td>\n",
       "      <td>D2</td>\n",
       "      <td>2009</td>\n",
       "      <td>2010-02-21</td>\n",
       "      <td>Frankfurt FSV</td>\n",
       "      <td>Karlsruhe</td>\n",
       "      <td>2</td>\n",
       "      <td>1</td>\n",
       "      <td>H</td>\n",
       "    </tr>\n",
       "    <tr>\n",
       "      <th>4</th>\n",
       "      <td>5</td>\n",
       "      <td>D2</td>\n",
       "      <td>2009</td>\n",
       "      <td>2009-12-06</td>\n",
       "      <td>Ahlen</td>\n",
       "      <td>Karlsruhe</td>\n",
       "      <td>1</td>\n",
       "      <td>3</td>\n",
       "      <td>A</td>\n",
       "    </tr>\n",
       "  </tbody>\n",
       "</table>\n",
       "</div>"
      ],
      "text/plain": [
       "   Match_ID Div  Season        Date       HomeTeam        AwayTeam  FTHG  \\\n",
       "0         1  D2    2009  2010-04-04     Oberhausen  Kaiserslautern     2   \n",
       "1         2  D2    2009  2009-11-01    Munich 1860  Kaiserslautern     0   \n",
       "2         3  D2    2009  2009-10-04  Frankfurt FSV  Kaiserslautern     1   \n",
       "3         4  D2    2009  2010-02-21  Frankfurt FSV       Karlsruhe     2   \n",
       "4         5  D2    2009  2009-12-06          Ahlen       Karlsruhe     1   \n",
       "\n",
       "   FTAG FTR  \n",
       "0     1   H  \n",
       "1     1   A  \n",
       "2     1   D  \n",
       "3     1   H  \n",
       "4     3   A  "
      ]
     },
     "execution_count": 13,
     "metadata": {},
     "output_type": "execute_result"
    }
   ],
   "source": [
    "df = sql_query_to_df(c, \"\"\"SELECT * FROM Matches\"\"\")\n",
    "df.head()"
   ]
  },
  {
   "cell_type": "markdown",
   "metadata": {},
   "source": [
    "### Teams_in_Matches"
   ]
  },
  {
   "cell_type": "code",
   "execution_count": 14,
   "metadata": {},
   "outputs": [
    {
     "data": {
      "text/html": [
       "<div>\n",
       "<style scoped>\n",
       "    .dataframe tbody tr th:only-of-type {\n",
       "        vertical-align: middle;\n",
       "    }\n",
       "\n",
       "    .dataframe tbody tr th {\n",
       "        vertical-align: top;\n",
       "    }\n",
       "\n",
       "    .dataframe thead th {\n",
       "        text-align: right;\n",
       "    }\n",
       "</style>\n",
       "<table border=\"1\" class=\"dataframe\">\n",
       "  <thead>\n",
       "    <tr style=\"text-align: right;\">\n",
       "      <th></th>\n",
       "      <th>Match_ID</th>\n",
       "      <th>Unique_Team_ID</th>\n",
       "    </tr>\n",
       "  </thead>\n",
       "  <tbody>\n",
       "    <tr>\n",
       "      <th>0</th>\n",
       "      <td>1</td>\n",
       "      <td>26</td>\n",
       "    </tr>\n",
       "    <tr>\n",
       "      <th>1</th>\n",
       "      <td>1</td>\n",
       "      <td>46</td>\n",
       "    </tr>\n",
       "    <tr>\n",
       "      <th>2</th>\n",
       "      <td>2</td>\n",
       "      <td>26</td>\n",
       "    </tr>\n",
       "    <tr>\n",
       "      <th>3</th>\n",
       "      <td>2</td>\n",
       "      <td>42</td>\n",
       "    </tr>\n",
       "    <tr>\n",
       "      <th>4</th>\n",
       "      <td>3</td>\n",
       "      <td>26</td>\n",
       "    </tr>\n",
       "  </tbody>\n",
       "</table>\n",
       "</div>"
      ],
      "text/plain": [
       "   Match_ID  Unique_Team_ID\n",
       "0         1              26\n",
       "1         1              46\n",
       "2         2              26\n",
       "3         2              42\n",
       "4         3              26"
      ]
     },
     "execution_count": 14,
     "metadata": {},
     "output_type": "execute_result"
    }
   ],
   "source": [
    "df = sql_query_to_df(c, \"\"\"SELECT * FROM Teams_in_matches\"\"\")\n",
    "df.head()"
   ]
  },
  {
   "cell_type": "markdown",
   "metadata": {},
   "source": [
    "### Teams"
   ]
  },
  {
   "cell_type": "code",
   "execution_count": 15,
   "metadata": {},
   "outputs": [
    {
     "data": {
      "text/html": [
       "<div>\n",
       "<style scoped>\n",
       "    .dataframe tbody tr th:only-of-type {\n",
       "        vertical-align: middle;\n",
       "    }\n",
       "\n",
       "    .dataframe tbody tr th {\n",
       "        vertical-align: top;\n",
       "    }\n",
       "\n",
       "    .dataframe thead th {\n",
       "        text-align: right;\n",
       "    }\n",
       "</style>\n",
       "<table border=\"1\" class=\"dataframe\">\n",
       "  <thead>\n",
       "    <tr style=\"text-align: right;\">\n",
       "      <th></th>\n",
       "      <th>Season</th>\n",
       "      <th>TeamName</th>\n",
       "      <th>KaderHome</th>\n",
       "      <th>AvgAgeHome</th>\n",
       "      <th>ForeignPlayersHome</th>\n",
       "      <th>OverallMarketValueHome</th>\n",
       "      <th>AvgMarketValueHome</th>\n",
       "      <th>StadiumCapacity</th>\n",
       "    </tr>\n",
       "  </thead>\n",
       "  <tbody>\n",
       "    <tr>\n",
       "      <th>0</th>\n",
       "      <td>2017</td>\n",
       "      <td>Bayern Munich</td>\n",
       "      <td>27</td>\n",
       "      <td>26</td>\n",
       "      <td>15</td>\n",
       "      <td>597950000</td>\n",
       "      <td>22150000</td>\n",
       "      <td>75000</td>\n",
       "    </tr>\n",
       "    <tr>\n",
       "      <th>1</th>\n",
       "      <td>2017</td>\n",
       "      <td>Dortmund</td>\n",
       "      <td>33</td>\n",
       "      <td>25</td>\n",
       "      <td>18</td>\n",
       "      <td>416730000</td>\n",
       "      <td>12630000</td>\n",
       "      <td>81359</td>\n",
       "    </tr>\n",
       "    <tr>\n",
       "      <th>2</th>\n",
       "      <td>2017</td>\n",
       "      <td>Leverkusen</td>\n",
       "      <td>31</td>\n",
       "      <td>24</td>\n",
       "      <td>15</td>\n",
       "      <td>222600000</td>\n",
       "      <td>7180000</td>\n",
       "      <td>30210</td>\n",
       "    </tr>\n",
       "    <tr>\n",
       "      <th>3</th>\n",
       "      <td>2017</td>\n",
       "      <td>RB Leipzig</td>\n",
       "      <td>30</td>\n",
       "      <td>23</td>\n",
       "      <td>15</td>\n",
       "      <td>180130000</td>\n",
       "      <td>6000000</td>\n",
       "      <td>42959</td>\n",
       "    </tr>\n",
       "    <tr>\n",
       "      <th>4</th>\n",
       "      <td>2017</td>\n",
       "      <td>Schalke 04</td>\n",
       "      <td>29</td>\n",
       "      <td>24</td>\n",
       "      <td>17</td>\n",
       "      <td>179550000</td>\n",
       "      <td>6190000</td>\n",
       "      <td>62271</td>\n",
       "    </tr>\n",
       "  </tbody>\n",
       "</table>\n",
       "</div>"
      ],
      "text/plain": [
       "  Season       TeamName KaderHome AvgAgeHome ForeignPlayersHome  \\\n",
       "0   2017  Bayern Munich        27         26                 15   \n",
       "1   2017       Dortmund        33         25                 18   \n",
       "2   2017     Leverkusen        31         24                 15   \n",
       "3   2017     RB Leipzig        30         23                 15   \n",
       "4   2017     Schalke 04        29         24                 17   \n",
       "\n",
       "  OverallMarketValueHome AvgMarketValueHome StadiumCapacity  \n",
       "0              597950000           22150000           75000  \n",
       "1              416730000           12630000           81359  \n",
       "2              222600000            7180000           30210  \n",
       "3              180130000            6000000           42959  \n",
       "4              179550000            6190000           62271  "
      ]
     },
     "execution_count": 15,
     "metadata": {},
     "output_type": "execute_result"
    }
   ],
   "source": [
    "df = sql_query_to_df(c, \"\"\"SELECT * FROM Teams\"\"\")\n",
    "df.head()"
   ]
  },
  {
   "cell_type": "markdown",
   "metadata": {},
   "source": [
    "### Unique_Teams"
   ]
  },
  {
   "cell_type": "code",
   "execution_count": 16,
   "metadata": {},
   "outputs": [
    {
     "data": {
      "text/html": [
       "<div>\n",
       "<style scoped>\n",
       "    .dataframe tbody tr th:only-of-type {\n",
       "        vertical-align: middle;\n",
       "    }\n",
       "\n",
       "    .dataframe tbody tr th {\n",
       "        vertical-align: top;\n",
       "    }\n",
       "\n",
       "    .dataframe thead th {\n",
       "        text-align: right;\n",
       "    }\n",
       "</style>\n",
       "<table border=\"1\" class=\"dataframe\">\n",
       "  <thead>\n",
       "    <tr style=\"text-align: right;\">\n",
       "      <th></th>\n",
       "      <th>TeamName</th>\n",
       "      <th>Unique_Team_ID</th>\n",
       "    </tr>\n",
       "  </thead>\n",
       "  <tbody>\n",
       "    <tr>\n",
       "      <th>0</th>\n",
       "      <td>Bayern Munich</td>\n",
       "      <td>1</td>\n",
       "    </tr>\n",
       "    <tr>\n",
       "      <th>1</th>\n",
       "      <td>Dortmund</td>\n",
       "      <td>2</td>\n",
       "    </tr>\n",
       "    <tr>\n",
       "      <th>2</th>\n",
       "      <td>Leverkusen</td>\n",
       "      <td>3</td>\n",
       "    </tr>\n",
       "    <tr>\n",
       "      <th>3</th>\n",
       "      <td>RB Leipzig</td>\n",
       "      <td>4</td>\n",
       "    </tr>\n",
       "    <tr>\n",
       "      <th>4</th>\n",
       "      <td>Schalke 04</td>\n",
       "      <td>5</td>\n",
       "    </tr>\n",
       "  </tbody>\n",
       "</table>\n",
       "</div>"
      ],
      "text/plain": [
       "        TeamName  Unique_Team_ID\n",
       "0  Bayern Munich               1\n",
       "1       Dortmund               2\n",
       "2     Leverkusen               3\n",
       "3     RB Leipzig               4\n",
       "4     Schalke 04               5"
      ]
     },
     "execution_count": 16,
     "metadata": {},
     "output_type": "execute_result"
    }
   ],
   "source": [
    "df = sql_query_to_df(c, \"\"\"SELECT * FROM Unique_Teams\"\"\")\n",
    "df.head()"
   ]
  },
  {
   "cell_type": "markdown",
   "metadata": {},
   "source": [
    "## Having a look at DarkSky API"
   ]
  },
  {
   "cell_type": "code",
   "execution_count": 17,
   "metadata": {
    "collapsed": true
   },
   "outputs": [],
   "source": [
    "darksky_api_key = get_darksky_api_key()"
   ]
  },
  {
   "cell_type": "markdown",
   "metadata": {},
   "source": [
    "[Darksky docs](https://darksky.net/dev/docs)"
   ]
  },
  {
   "cell_type": "markdown",
   "metadata": {},
   "source": [
    "https://api.darksky.net/forecast/[key]/[latitude],[longitude],[time]\n",
    "\n",
    "A Time Machine Request returns the observed (in the past) or forecasted (in the future) hour-by-hour weather and daily weather conditions for a particular date. A Time Machine request is identical in structure to a Forecast Request, except:\n",
    "\n",
    "The currently data point will refer to the time provided, rather than the current time.\n",
    "The minutely data block will be omitted, unless you are requesting a time within an hour of the present.\n",
    "The hourly data block will contain data points starting at midnight (local time) of the day requested, and continuing until midnight (local time) of the following day.\n",
    "The daily data block will contain a single data point referring to the requested date.\n",
    "The alerts data block will be omitted."
   ]
  },
  {
   "cell_type": "markdown",
   "metadata": {},
   "source": [
    "Example time \"time\": 1509993277,"
   ]
  },
  {
   "cell_type": "markdown",
   "metadata": {},
   "source": [
    "Berlin lat/long\n",
    "lat: 52.520645\n",
    "long: 13.409779\n",
    "from https://www.latlong.net/place/fernsehturm-berlin-240.html"
   ]
  },
  {
   "cell_type": "markdown",
   "metadata": {},
   "source": [
    "### precipType documention:\n",
    "\n",
    "precipType optional\n",
    "The type of precipitation occurring at the given time. If defined, this property will have one of the following values: \"rain\", \"snow\", or \"sleet\" (which refers to each of freezing rain, ice pellets, and “wintery mix”). (If precipIntensity is zero, then this property will not be defined. Additionally, due to the lack of data in our sources, historical precipType information is usually estimated, rather than observed.)"
   ]
  },
  {
   "cell_type": "code",
   "execution_count": 18,
   "metadata": {
    "collapsed": true
   },
   "outputs": [],
   "source": [
    "response = get_weather_in_berlin('2019-05-14')"
   ]
  },
  {
   "cell_type": "code",
   "execution_count": 19,
   "metadata": {},
   "outputs": [
    {
     "data": {
      "text/plain": [
       "True"
      ]
     },
     "execution_count": 19,
     "metadata": {},
     "output_type": "execute_result"
    }
   ],
   "source": [
    "did_it_rain_in_berlin('2019-01-07')"
   ]
  },
  {
   "cell_type": "code",
   "execution_count": 20,
   "metadata": {},
   "outputs": [
    {
     "data": {
      "text/plain": [
       "False"
      ]
     },
     "execution_count": 20,
     "metadata": {},
     "output_type": "execute_result"
    }
   ],
   "source": [
    "did_it_rain_in_berlin('2016-12-07')"
   ]
  },
  {
   "cell_type": "code",
   "execution_count": 21,
   "metadata": {},
   "outputs": [
    {
     "data": {
      "text/plain": [
       "True"
      ]
     },
     "execution_count": 21,
     "metadata": {},
     "output_type": "execute_result"
    }
   ],
   "source": [
    "did_it_rain_in_berlin('2011-08-15')"
   ]
  },
  {
   "cell_type": "markdown",
   "metadata": {},
   "source": [
    "## Creating dictionary that will become the Mongo entry\n",
    "* The name of the team\n",
    "* The total number of goals scored by the team during the 2011 season\n",
    "* The total number of wins the team earned during the 2011 season\n",
    "* A histogram visualization of the team's wins and losses for the 2011 season (store the visualization directly)\n",
    "* The team's win percentage on days where it was raining during games in the 2011 season. "
   ]
  },
  {
   "cell_type": "code",
   "execution_count": 22,
   "metadata": {
    "collapsed": true
   },
   "outputs": [],
   "source": [
    "mongo_entry = {\n",
    "    'name': '', # str\n",
    "    'goals_scored': 0, # int\n",
    "    'total_wins': 0, # int\n",
    "    'histogram': '', # image (?)\n",
    "    'raining_win_percentage': 0.0 # float\n",
    "}"
   ]
  },
  {
   "cell_type": "markdown",
   "metadata": {},
   "source": [
    "### Question: What does it mean to make a histogram of wins and losses? Just a bar graph? And what does it mean to 'store the visualization directly'?"
   ]
  },
  {
   "cell_type": "markdown",
   "metadata": {},
   "source": [
    "### Answer: For now, store the numbers. As a \"stretch goal\", try storing the file directly or storing a link that can be served by a content delivery network."
   ]
  },
  {
   "cell_type": "markdown",
   "metadata": {},
   "source": [
    "## MongoDB related functions"
   ]
  },
  {
   "cell_type": "code",
   "execution_count": 23,
   "metadata": {
    "collapsed": true
   },
   "outputs": [],
   "source": [
    "def get_mongo_client():\n",
    "    import pymongo\n",
    "    myclient = pymongo.MongoClient(\"mongodb://127.0.0.1:27017/\")\n",
    "    return myclient"
   ]
  },
  {
   "cell_type": "code",
   "execution_count": 24,
   "metadata": {
    "collapsed": true
   },
   "outputs": [],
   "source": [
    "def get_mongo_db(database_name=\"soccer_database\"):\n",
    "    import pymongo\n",
    "    myclient = get_mongo_client()\n",
    "    mydb = myclient[database_name]\n",
    "    return mydb"
   ]
  },
  {
   "cell_type": "code",
   "execution_count": 25,
   "metadata": {
    "collapsed": true
   },
   "outputs": [],
   "source": [
    "def get_mongo_collection(database_name=\"soccer_database\", collection_name=\"soccer_collection\"):\n",
    "    import pymongo\n",
    "    mydb = get_mongo_db(database_name=database_name)\n",
    "    mycollection = mydb[collection_name]\n",
    "    return mycollection"
   ]
  },
  {
   "cell_type": "code",
   "execution_count": 26,
   "metadata": {
    "collapsed": true
   },
   "outputs": [],
   "source": [
    "myclient = get_mongo_client()"
   ]
  },
  {
   "cell_type": "code",
   "execution_count": 27,
   "metadata": {
    "collapsed": true
   },
   "outputs": [],
   "source": [
    "mydb = get_mongo_db()"
   ]
  },
  {
   "cell_type": "code",
   "execution_count": 28,
   "metadata": {
    "collapsed": true
   },
   "outputs": [],
   "source": [
    "mycollection = get_mongo_collection()"
   ]
  },
  {
   "cell_type": "markdown",
   "metadata": {},
   "source": [
    "## SQL queries"
   ]
  },
  {
   "cell_type": "code",
   "execution_count": 29,
   "metadata": {
    "collapsed": true
   },
   "outputs": [],
   "source": [
    "conn, c = connect_to_sql_database('database.sqlite')"
   ]
  },
  {
   "cell_type": "markdown",
   "metadata": {},
   "source": [
    "### Working on getting just the team names into the database"
   ]
  },
  {
   "cell_type": "markdown",
   "metadata": {},
   "source": [
    "<img src=\"tables2.png\" alt=\"drawing\" width=\"50%\"/>"
   ]
  },
  {
   "cell_type": "code",
   "execution_count": 31,
   "metadata": {},
   "outputs": [
    {
     "data": {
      "text/html": [
       "<div>\n",
       "<style scoped>\n",
       "    .dataframe tbody tr th:only-of-type {\n",
       "        vertical-align: middle;\n",
       "    }\n",
       "\n",
       "    .dataframe tbody tr th {\n",
       "        vertical-align: top;\n",
       "    }\n",
       "\n",
       "    .dataframe thead th {\n",
       "        text-align: right;\n",
       "    }\n",
       "</style>\n",
       "<table border=\"1\" class=\"dataframe\">\n",
       "  <thead>\n",
       "    <tr style=\"text-align: right;\">\n",
       "      <th></th>\n",
       "      <th>TeamName</th>\n",
       "    </tr>\n",
       "  </thead>\n",
       "  <tbody>\n",
       "    <tr>\n",
       "      <th>0</th>\n",
       "      <td>Bayern Munich</td>\n",
       "    </tr>\n",
       "    <tr>\n",
       "      <th>1</th>\n",
       "      <td>Dortmund</td>\n",
       "    </tr>\n",
       "    <tr>\n",
       "      <th>2</th>\n",
       "      <td>Leverkusen</td>\n",
       "    </tr>\n",
       "    <tr>\n",
       "      <th>3</th>\n",
       "      <td>RB Leipzig</td>\n",
       "    </tr>\n",
       "    <tr>\n",
       "      <th>4</th>\n",
       "      <td>Schalke 04</td>\n",
       "    </tr>\n",
       "  </tbody>\n",
       "</table>\n",
       "</div>"
      ],
      "text/plain": [
       "        TeamName\n",
       "0  Bayern Munich\n",
       "1       Dortmund\n",
       "2     Leverkusen\n",
       "3     RB Leipzig\n",
       "4     Schalke 04"
      ]
     },
     "execution_count": 31,
     "metadata": {},
     "output_type": "execute_result"
    }
   ],
   "source": [
    "df = sql_query_to_df(c, \"\"\"SELECT TeamName FROM Unique_Teams\"\"\")\n",
    "df.head()"
   ]
  },
  {
   "cell_type": "code",
   "execution_count": 32,
   "metadata": {
    "collapsed": true
   },
   "outputs": [],
   "source": [
    "mongo_entry = {\n",
    "    'name': '', # str, The name of the team\n",
    "    'goals_scored': 0, # int, The total number of goals scored by the team during the 2011 season\n",
    "    'total_wins': 0, # int, The total number of wins the team earned during the 2011 season\n",
    "    'total_losses': '', # int, The total number of wins the team earned during the 2011 season\n",
    "    'raining_win_percentage': 0.0 # float, The team's win percentage on days where it was raining during games in the 2011 season.\n",
    "}"
   ]
  },
  {
   "cell_type": "markdown",
   "metadata": {},
   "source": [
    "### Code to convert a DataFrame (or row in a DataFrame) into a Python dictionary, on our way to inserting it into a MongoDB"
   ]
  },
  {
   "cell_type": "code",
   "execution_count": 33,
   "metadata": {},
   "outputs": [
    {
     "data": {
      "text/plain": [
       "{'TeamName': 'Bayern Munich'}"
      ]
     },
     "execution_count": 33,
     "metadata": {},
     "output_type": "execute_result"
    }
   ],
   "source": [
    "# https://pandas.pydata.org/pandas-docs/stable/reference/api/pandas.DataFrame.to_dict.html\n",
    "df.iloc[0,:].to_dict()"
   ]
  },
  {
   "cell_type": "code",
   "execution_count": 37,
   "metadata": {
    "collapsed": true
   },
   "outputs": [],
   "source": [
    "def convert_df_to_list_of_dicts(df, list_of_cols=None):\n",
    "    list_of_dicts = []\n",
    "    if list_of_cols == None:\n",
    "        for i in range(len(df)):\n",
    "            list_of_dicts.append(df.iloc[i,:].to_dict())\n",
    "    else:\n",
    "        for i in range(len(df)):\n",
    "            list_of_dicts.append(df.iloc[i,list_of_cols].to_dict())\n",
    "    return list_of_dicts"
   ]
  },
  {
   "cell_type": "code",
   "execution_count": 39,
   "metadata": {
    "collapsed": true
   },
   "outputs": [],
   "source": [
    "name_dicts = sql_query_to_list_of_dicts(c, \"\"\"SELECT TeamName FROM Unique_Teams\"\"\")"
   ]
  },
  {
   "cell_type": "code",
   "execution_count": 40,
   "metadata": {},
   "outputs": [
    {
     "data": {
      "text/plain": [
       "[{'TeamName': 'Bayern Munich'},\n",
       " {'TeamName': 'Dortmund'},\n",
       " {'TeamName': 'Leverkusen'},\n",
       " {'TeamName': 'RB Leipzig'},\n",
       " {'TeamName': 'Schalke 04'},\n",
       " {'TeamName': \"M'gladbach\"},\n",
       " {'TeamName': 'Wolfsburg'},\n",
       " {'TeamName': 'FC Koln'},\n",
       " {'TeamName': 'Hoffenheim'},\n",
       " {'TeamName': 'Hertha'},\n",
       " {'TeamName': 'Mainz'},\n",
       " {'TeamName': 'Hamburg'},\n",
       " {'TeamName': 'Werder Bremen'},\n",
       " {'TeamName': 'Ein Frankfurt'},\n",
       " {'TeamName': 'Augsburg'},\n",
       " {'TeamName': 'Freiburg'},\n",
       " {'TeamName': 'Stuttgart'},\n",
       " {'TeamName': 'Hannover'},\n",
       " {'TeamName': 'Ingolstadt'},\n",
       " {'TeamName': 'Darmstadt'},\n",
       " {'TeamName': 'Paderborn'},\n",
       " {'TeamName': 'Nurnberg'},\n",
       " {'TeamName': 'Braunschweig'},\n",
       " {'TeamName': 'Greuther Furth'},\n",
       " {'TeamName': 'Fortuna Dusseldorf'},\n",
       " {'TeamName': 'Kaiserslautern'},\n",
       " {'TeamName': 'St Pauli'},\n",
       " {'TeamName': 'Bochum'},\n",
       " {'TeamName': 'Karlsruhe'},\n",
       " {'TeamName': 'Bielefeld'},\n",
       " {'TeamName': 'Cottbus'},\n",
       " {'TeamName': 'Duisburg'},\n",
       " {'TeamName': 'Hansa Rostock'},\n",
       " {'TeamName': 'Aachen'},\n",
       " {'TeamName': 'Union Berlin'},\n",
       " {'TeamName': 'Heidenheim'},\n",
       " {'TeamName': 'Dresden'},\n",
       " {'TeamName': 'Sandhausen'},\n",
       " {'TeamName': 'Erzgebirge Aue'},\n",
       " {'TeamName': 'Kiel'},\n",
       " {'TeamName': 'Regensburg'},\n",
       " {'TeamName': 'Munich 1860'},\n",
       " {'TeamName': 'Wurzburger Kickers'},\n",
       " {'TeamName': 'Frankfurt FSV'},\n",
       " {'TeamName': 'Aalen'},\n",
       " {'TeamName': 'Oberhausen'},\n",
       " {'TeamName': 'Osnabruck'},\n",
       " {'TeamName': 'Koblenz'},\n",
       " {'TeamName': 'Ahlen'},\n",
       " {'TeamName': 'Wehen'},\n",
       " {'TeamName': 'CZ Jena'},\n",
       " {'TeamName': 'Offenbach'},\n",
       " {'TeamName': 'Essen'},\n",
       " {'TeamName': 'Burghausen'},\n",
       " {'TeamName': 'Unterhaching'},\n",
       " {'TeamName': 'Saarbrucken'},\n",
       " {'TeamName': 'Siegen'},\n",
       " {'TeamName': 'Babelsberg'},\n",
       " {'TeamName': 'Chemnitz'},\n",
       " {'TeamName': 'Ein Trier'},\n",
       " {'TeamName': 'Erfurt'},\n",
       " {'TeamName': 'F Koln'},\n",
       " {'TeamName': 'Gutersloh'},\n",
       " {'TeamName': 'Homburg'},\n",
       " {'TeamName': 'Leipzig'},\n",
       " {'TeamName': 'Lubeck'},\n",
       " {'TeamName': 'Mannheim'},\n",
       " {'TeamName': 'Meppen'},\n",
       " {'TeamName': 'Oldenburg'},\n",
       " {'TeamName': 'Reutlingen'},\n",
       " {'TeamName': 'Schweinfurt'},\n",
       " {'TeamName': 'Stuttgarter K'},\n",
       " {'TeamName': 'TB Berlin'},\n",
       " {'TeamName': 'Uerdingen'},\n",
       " {'TeamName': 'Ulm'},\n",
       " {'TeamName': 'Wattenscheid'},\n",
       " {'TeamName': 'Wuppertaler'},\n",
       " {'TeamName': 'Zwickau'},\n",
       " {'TeamName': 'RW Essen'},\n",
       " {'TeamName': \"M'Gladbach\"},\n",
       " {'TeamName': 'Arsenal'},\n",
       " {'TeamName': 'Aston Villa'},\n",
       " {'TeamName': 'Chelsea'},\n",
       " {'TeamName': 'Liverpool'},\n",
       " {'TeamName': 'Man City'},\n",
       " {'TeamName': 'Newcastle'},\n",
       " {'TeamName': 'Oldham'},\n",
       " {'TeamName': 'Sheffield United'},\n",
       " {'TeamName': 'Southampton'},\n",
       " {'TeamName': 'West Ham'},\n",
       " {'TeamName': 'Norwich'},\n",
       " {'TeamName': 'Tottenham'},\n",
       " {'TeamName': 'Everton'},\n",
       " {'TeamName': 'Ipswich'},\n",
       " {'TeamName': 'Leeds'},\n",
       " {'TeamName': 'Wimbledon'},\n",
       " {'TeamName': 'Blackburn'},\n",
       " {'TeamName': 'Coventry'},\n",
       " {'TeamName': 'Man United'},\n",
       " {'TeamName': 'QPR'},\n",
       " {'TeamName': 'Sheffield Weds'},\n",
       " {'TeamName': 'Swindon'},\n",
       " {'TeamName': 'Crystal Palace'},\n",
       " {'TeamName': 'Leicester'},\n",
       " {'TeamName': \"Nott'm Forest\"},\n",
       " {'TeamName': 'Bolton'},\n",
       " {'TeamName': 'Middlesbrough'},\n",
       " {'TeamName': 'Derby'},\n",
       " {'TeamName': 'Sunderland'},\n",
       " {'TeamName': 'Barnsley'},\n",
       " {'TeamName': 'Charlton'},\n",
       " {'TeamName': 'Watford'},\n",
       " {'TeamName': 'Bradford'},\n",
       " {'TeamName': 'Fulham'},\n",
       " {'TeamName': 'Birmingham'},\n",
       " {'TeamName': 'Middlesboro'},\n",
       " {'TeamName': 'West Brom'},\n",
       " {'TeamName': 'Portsmouth'},\n",
       " {'TeamName': 'Wolves'},\n",
       " {'TeamName': 'Wigan'},\n",
       " {'TeamName': 'Reading'},\n",
       " {'TeamName': 'Hull'},\n",
       " {'TeamName': 'Stoke'},\n",
       " {'TeamName': 'Burnley'},\n",
       " {'TeamName': 'Blackpool'},\n",
       " {'TeamName': 'Swansea'},\n",
       " {'TeamName': 'Cardiff'},\n",
       " {'TeamName': 'Bournemouth'}]"
      ]
     },
     "execution_count": 40,
     "metadata": {},
     "output_type": "execute_result"
    }
   ],
   "source": [
    "name_dicts"
   ]
  },
  {
   "cell_type": "markdown",
   "metadata": {},
   "source": [
    "### Inserting a list of dicts into database"
   ]
  },
  {
   "cell_type": "code",
   "execution_count": 41,
   "metadata": {
    "collapsed": true
   },
   "outputs": [],
   "source": [
    "name_collection = get_mongo_collection(database_name=\"name_database\", collection_name=\"name_collection\")"
   ]
  },
  {
   "cell_type": "code",
   "execution_count": 42,
   "metadata": {},
   "outputs": [
    {
     "data": {
      "text/plain": [
       "<pymongo.results.InsertManyResult at 0x11eb09048>"
      ]
     },
     "execution_count": 42,
     "metadata": {},
     "output_type": "execute_result"
    }
   ],
   "source": [
    "name_collection.insert_many(name_dicts)"
   ]
  },
  {
   "cell_type": "code",
   "execution_count": 43,
   "metadata": {},
   "outputs": [
    {
     "data": {
      "text/plain": [
       "<pymongo.cursor.Cursor at 0x11eb354a8>"
      ]
     },
     "execution_count": 43,
     "metadata": {},
     "output_type": "execute_result"
    }
   ],
   "source": [
    "name_collection.find({})"
   ]
  },
  {
   "cell_type": "code",
   "execution_count": 44,
   "metadata": {
    "collapsed": true
   },
   "outputs": [],
   "source": [
    "def mongo_display_collection_contents(mycollection):\n",
    "    query = mycollection.find({})\n",
    "    for item in query:\n",
    "        print(item)"
   ]
  },
  {
   "cell_type": "code",
   "execution_count": 45,
   "metadata": {},
   "outputs": [
    {
     "name": "stdout",
     "output_type": "stream",
     "text": [
      "{'_id': ObjectId('5cdd829bf7a1b616ca92f1a3'), 'TeamName': 'Bayern Munich'}\n",
      "{'_id': ObjectId('5cdd829bf7a1b616ca92f1a4'), 'TeamName': 'Dortmund'}\n",
      "{'_id': ObjectId('5cdd829bf7a1b616ca92f1a5'), 'TeamName': 'Leverkusen'}\n",
      "{'_id': ObjectId('5cdd829bf7a1b616ca92f1a6'), 'TeamName': 'RB Leipzig'}\n",
      "{'_id': ObjectId('5cdd829bf7a1b616ca92f1a7'), 'TeamName': 'Schalke 04'}\n",
      "{'_id': ObjectId('5cdd829bf7a1b616ca92f1a8'), 'TeamName': \"M'gladbach\"}\n",
      "{'_id': ObjectId('5cdd829bf7a1b616ca92f1a9'), 'TeamName': 'Wolfsburg'}\n",
      "{'_id': ObjectId('5cdd829bf7a1b616ca92f1aa'), 'TeamName': 'FC Koln'}\n",
      "{'_id': ObjectId('5cdd829bf7a1b616ca92f1ab'), 'TeamName': 'Hoffenheim'}\n",
      "{'_id': ObjectId('5cdd829bf7a1b616ca92f1ac'), 'TeamName': 'Hertha'}\n",
      "{'_id': ObjectId('5cdd829bf7a1b616ca92f1ad'), 'TeamName': 'Mainz'}\n",
      "{'_id': ObjectId('5cdd829bf7a1b616ca92f1ae'), 'TeamName': 'Hamburg'}\n",
      "{'_id': ObjectId('5cdd829bf7a1b616ca92f1af'), 'TeamName': 'Werder Bremen'}\n",
      "{'_id': ObjectId('5cdd829bf7a1b616ca92f1b0'), 'TeamName': 'Ein Frankfurt'}\n",
      "{'_id': ObjectId('5cdd829bf7a1b616ca92f1b1'), 'TeamName': 'Augsburg'}\n",
      "{'_id': ObjectId('5cdd829bf7a1b616ca92f1b2'), 'TeamName': 'Freiburg'}\n",
      "{'_id': ObjectId('5cdd829bf7a1b616ca92f1b3'), 'TeamName': 'Stuttgart'}\n",
      "{'_id': ObjectId('5cdd829bf7a1b616ca92f1b4'), 'TeamName': 'Hannover'}\n",
      "{'_id': ObjectId('5cdd829bf7a1b616ca92f1b5'), 'TeamName': 'Ingolstadt'}\n",
      "{'_id': ObjectId('5cdd829bf7a1b616ca92f1b6'), 'TeamName': 'Darmstadt'}\n",
      "{'_id': ObjectId('5cdd829bf7a1b616ca92f1b7'), 'TeamName': 'Paderborn'}\n",
      "{'_id': ObjectId('5cdd829bf7a1b616ca92f1b8'), 'TeamName': 'Nurnberg'}\n",
      "{'_id': ObjectId('5cdd829bf7a1b616ca92f1b9'), 'TeamName': 'Braunschweig'}\n",
      "{'_id': ObjectId('5cdd829bf7a1b616ca92f1ba'), 'TeamName': 'Greuther Furth'}\n",
      "{'_id': ObjectId('5cdd829bf7a1b616ca92f1bb'), 'TeamName': 'Fortuna Dusseldorf'}\n",
      "{'_id': ObjectId('5cdd829bf7a1b616ca92f1bc'), 'TeamName': 'Kaiserslautern'}\n",
      "{'_id': ObjectId('5cdd829bf7a1b616ca92f1bd'), 'TeamName': 'St Pauli'}\n",
      "{'_id': ObjectId('5cdd829bf7a1b616ca92f1be'), 'TeamName': 'Bochum'}\n",
      "{'_id': ObjectId('5cdd829bf7a1b616ca92f1bf'), 'TeamName': 'Karlsruhe'}\n",
      "{'_id': ObjectId('5cdd829bf7a1b616ca92f1c0'), 'TeamName': 'Bielefeld'}\n",
      "{'_id': ObjectId('5cdd829bf7a1b616ca92f1c1'), 'TeamName': 'Cottbus'}\n",
      "{'_id': ObjectId('5cdd829bf7a1b616ca92f1c2'), 'TeamName': 'Duisburg'}\n",
      "{'_id': ObjectId('5cdd829bf7a1b616ca92f1c3'), 'TeamName': 'Hansa Rostock'}\n",
      "{'_id': ObjectId('5cdd829bf7a1b616ca92f1c4'), 'TeamName': 'Aachen'}\n",
      "{'_id': ObjectId('5cdd829bf7a1b616ca92f1c5'), 'TeamName': 'Union Berlin'}\n",
      "{'_id': ObjectId('5cdd829bf7a1b616ca92f1c6'), 'TeamName': 'Heidenheim'}\n",
      "{'_id': ObjectId('5cdd829bf7a1b616ca92f1c7'), 'TeamName': 'Dresden'}\n",
      "{'_id': ObjectId('5cdd829bf7a1b616ca92f1c8'), 'TeamName': 'Sandhausen'}\n",
      "{'_id': ObjectId('5cdd829bf7a1b616ca92f1c9'), 'TeamName': 'Erzgebirge Aue'}\n",
      "{'_id': ObjectId('5cdd829bf7a1b616ca92f1ca'), 'TeamName': 'Kiel'}\n",
      "{'_id': ObjectId('5cdd829bf7a1b616ca92f1cb'), 'TeamName': 'Regensburg'}\n",
      "{'_id': ObjectId('5cdd829bf7a1b616ca92f1cc'), 'TeamName': 'Munich 1860'}\n",
      "{'_id': ObjectId('5cdd829bf7a1b616ca92f1cd'), 'TeamName': 'Wurzburger Kickers'}\n",
      "{'_id': ObjectId('5cdd829bf7a1b616ca92f1ce'), 'TeamName': 'Frankfurt FSV'}\n",
      "{'_id': ObjectId('5cdd829bf7a1b616ca92f1cf'), 'TeamName': 'Aalen'}\n",
      "{'_id': ObjectId('5cdd829bf7a1b616ca92f1d0'), 'TeamName': 'Oberhausen'}\n",
      "{'_id': ObjectId('5cdd829bf7a1b616ca92f1d1'), 'TeamName': 'Osnabruck'}\n",
      "{'_id': ObjectId('5cdd829bf7a1b616ca92f1d2'), 'TeamName': 'Koblenz'}\n",
      "{'_id': ObjectId('5cdd829bf7a1b616ca92f1d3'), 'TeamName': 'Ahlen'}\n",
      "{'_id': ObjectId('5cdd829bf7a1b616ca92f1d4'), 'TeamName': 'Wehen'}\n",
      "{'_id': ObjectId('5cdd829bf7a1b616ca92f1d5'), 'TeamName': 'CZ Jena'}\n",
      "{'_id': ObjectId('5cdd829bf7a1b616ca92f1d6'), 'TeamName': 'Offenbach'}\n",
      "{'_id': ObjectId('5cdd829bf7a1b616ca92f1d7'), 'TeamName': 'Essen'}\n",
      "{'_id': ObjectId('5cdd829bf7a1b616ca92f1d8'), 'TeamName': 'Burghausen'}\n",
      "{'_id': ObjectId('5cdd829bf7a1b616ca92f1d9'), 'TeamName': 'Unterhaching'}\n",
      "{'_id': ObjectId('5cdd829bf7a1b616ca92f1da'), 'TeamName': 'Saarbrucken'}\n",
      "{'_id': ObjectId('5cdd829bf7a1b616ca92f1db'), 'TeamName': 'Siegen'}\n",
      "{'_id': ObjectId('5cdd829bf7a1b616ca92f1dc'), 'TeamName': 'Babelsberg'}\n",
      "{'_id': ObjectId('5cdd829bf7a1b616ca92f1dd'), 'TeamName': 'Chemnitz'}\n",
      "{'_id': ObjectId('5cdd829bf7a1b616ca92f1de'), 'TeamName': 'Ein Trier'}\n",
      "{'_id': ObjectId('5cdd829bf7a1b616ca92f1df'), 'TeamName': 'Erfurt'}\n",
      "{'_id': ObjectId('5cdd829bf7a1b616ca92f1e0'), 'TeamName': 'F Koln'}\n",
      "{'_id': ObjectId('5cdd829bf7a1b616ca92f1e1'), 'TeamName': 'Gutersloh'}\n",
      "{'_id': ObjectId('5cdd829bf7a1b616ca92f1e2'), 'TeamName': 'Homburg'}\n",
      "{'_id': ObjectId('5cdd829bf7a1b616ca92f1e3'), 'TeamName': 'Leipzig'}\n",
      "{'_id': ObjectId('5cdd829bf7a1b616ca92f1e4'), 'TeamName': 'Lubeck'}\n",
      "{'_id': ObjectId('5cdd829bf7a1b616ca92f1e5'), 'TeamName': 'Mannheim'}\n",
      "{'_id': ObjectId('5cdd829bf7a1b616ca92f1e6'), 'TeamName': 'Meppen'}\n",
      "{'_id': ObjectId('5cdd829bf7a1b616ca92f1e7'), 'TeamName': 'Oldenburg'}\n",
      "{'_id': ObjectId('5cdd829bf7a1b616ca92f1e8'), 'TeamName': 'Reutlingen'}\n",
      "{'_id': ObjectId('5cdd829bf7a1b616ca92f1e9'), 'TeamName': 'Schweinfurt'}\n",
      "{'_id': ObjectId('5cdd829bf7a1b616ca92f1ea'), 'TeamName': 'Stuttgarter K'}\n",
      "{'_id': ObjectId('5cdd829bf7a1b616ca92f1eb'), 'TeamName': 'TB Berlin'}\n",
      "{'_id': ObjectId('5cdd829bf7a1b616ca92f1ec'), 'TeamName': 'Uerdingen'}\n",
      "{'_id': ObjectId('5cdd829bf7a1b616ca92f1ed'), 'TeamName': 'Ulm'}\n",
      "{'_id': ObjectId('5cdd829bf7a1b616ca92f1ee'), 'TeamName': 'Wattenscheid'}\n",
      "{'_id': ObjectId('5cdd829bf7a1b616ca92f1ef'), 'TeamName': 'Wuppertaler'}\n",
      "{'_id': ObjectId('5cdd829bf7a1b616ca92f1f0'), 'TeamName': 'Zwickau'}\n",
      "{'_id': ObjectId('5cdd829bf7a1b616ca92f1f1'), 'TeamName': 'RW Essen'}\n",
      "{'_id': ObjectId('5cdd829bf7a1b616ca92f1f2'), 'TeamName': \"M'Gladbach\"}\n",
      "{'_id': ObjectId('5cdd829bf7a1b616ca92f1f3'), 'TeamName': 'Arsenal'}\n",
      "{'_id': ObjectId('5cdd829bf7a1b616ca92f1f4'), 'TeamName': 'Aston Villa'}\n",
      "{'_id': ObjectId('5cdd829bf7a1b616ca92f1f5'), 'TeamName': 'Chelsea'}\n",
      "{'_id': ObjectId('5cdd829bf7a1b616ca92f1f6'), 'TeamName': 'Liverpool'}\n",
      "{'_id': ObjectId('5cdd829bf7a1b616ca92f1f7'), 'TeamName': 'Man City'}\n",
      "{'_id': ObjectId('5cdd829bf7a1b616ca92f1f8'), 'TeamName': 'Newcastle'}\n",
      "{'_id': ObjectId('5cdd829bf7a1b616ca92f1f9'), 'TeamName': 'Oldham'}\n",
      "{'_id': ObjectId('5cdd829bf7a1b616ca92f1fa'), 'TeamName': 'Sheffield United'}\n",
      "{'_id': ObjectId('5cdd829bf7a1b616ca92f1fb'), 'TeamName': 'Southampton'}\n",
      "{'_id': ObjectId('5cdd829bf7a1b616ca92f1fc'), 'TeamName': 'West Ham'}\n",
      "{'_id': ObjectId('5cdd829bf7a1b616ca92f1fd'), 'TeamName': 'Norwich'}\n",
      "{'_id': ObjectId('5cdd829bf7a1b616ca92f1fe'), 'TeamName': 'Tottenham'}\n",
      "{'_id': ObjectId('5cdd829bf7a1b616ca92f1ff'), 'TeamName': 'Everton'}\n",
      "{'_id': ObjectId('5cdd829bf7a1b616ca92f200'), 'TeamName': 'Ipswich'}\n",
      "{'_id': ObjectId('5cdd829bf7a1b616ca92f201'), 'TeamName': 'Leeds'}\n",
      "{'_id': ObjectId('5cdd829bf7a1b616ca92f202'), 'TeamName': 'Wimbledon'}\n",
      "{'_id': ObjectId('5cdd829bf7a1b616ca92f203'), 'TeamName': 'Blackburn'}\n",
      "{'_id': ObjectId('5cdd829bf7a1b616ca92f204'), 'TeamName': 'Coventry'}\n",
      "{'_id': ObjectId('5cdd829bf7a1b616ca92f205'), 'TeamName': 'Man United'}\n",
      "{'_id': ObjectId('5cdd829bf7a1b616ca92f206'), 'TeamName': 'QPR'}\n",
      "{'_id': ObjectId('5cdd829bf7a1b616ca92f207'), 'TeamName': 'Sheffield Weds'}\n",
      "{'_id': ObjectId('5cdd829bf7a1b616ca92f208'), 'TeamName': 'Swindon'}\n",
      "{'_id': ObjectId('5cdd829bf7a1b616ca92f209'), 'TeamName': 'Crystal Palace'}\n",
      "{'_id': ObjectId('5cdd829bf7a1b616ca92f20a'), 'TeamName': 'Leicester'}\n",
      "{'_id': ObjectId('5cdd829bf7a1b616ca92f20b'), 'TeamName': \"Nott'm Forest\"}\n",
      "{'_id': ObjectId('5cdd829bf7a1b616ca92f20c'), 'TeamName': 'Bolton'}\n",
      "{'_id': ObjectId('5cdd829bf7a1b616ca92f20d'), 'TeamName': 'Middlesbrough'}\n",
      "{'_id': ObjectId('5cdd829bf7a1b616ca92f20e'), 'TeamName': 'Derby'}\n",
      "{'_id': ObjectId('5cdd829bf7a1b616ca92f20f'), 'TeamName': 'Sunderland'}\n",
      "{'_id': ObjectId('5cdd829bf7a1b616ca92f210'), 'TeamName': 'Barnsley'}\n",
      "{'_id': ObjectId('5cdd829bf7a1b616ca92f211'), 'TeamName': 'Charlton'}\n",
      "{'_id': ObjectId('5cdd829bf7a1b616ca92f212'), 'TeamName': 'Watford'}\n",
      "{'_id': ObjectId('5cdd829bf7a1b616ca92f213'), 'TeamName': 'Bradford'}\n",
      "{'_id': ObjectId('5cdd829bf7a1b616ca92f214'), 'TeamName': 'Fulham'}\n",
      "{'_id': ObjectId('5cdd829bf7a1b616ca92f215'), 'TeamName': 'Birmingham'}\n",
      "{'_id': ObjectId('5cdd829bf7a1b616ca92f216'), 'TeamName': 'Middlesboro'}\n",
      "{'_id': ObjectId('5cdd829bf7a1b616ca92f217'), 'TeamName': 'West Brom'}\n",
      "{'_id': ObjectId('5cdd829bf7a1b616ca92f218'), 'TeamName': 'Portsmouth'}\n",
      "{'_id': ObjectId('5cdd829bf7a1b616ca92f219'), 'TeamName': 'Wolves'}\n",
      "{'_id': ObjectId('5cdd829bf7a1b616ca92f21a'), 'TeamName': 'Wigan'}\n",
      "{'_id': ObjectId('5cdd829bf7a1b616ca92f21b'), 'TeamName': 'Reading'}\n",
      "{'_id': ObjectId('5cdd829bf7a1b616ca92f21c'), 'TeamName': 'Hull'}\n",
      "{'_id': ObjectId('5cdd829bf7a1b616ca92f21d'), 'TeamName': 'Stoke'}\n",
      "{'_id': ObjectId('5cdd829bf7a1b616ca92f21e'), 'TeamName': 'Burnley'}\n",
      "{'_id': ObjectId('5cdd829bf7a1b616ca92f21f'), 'TeamName': 'Blackpool'}\n",
      "{'_id': ObjectId('5cdd829bf7a1b616ca92f220'), 'TeamName': 'Swansea'}\n",
      "{'_id': ObjectId('5cdd829bf7a1b616ca92f221'), 'TeamName': 'Cardiff'}\n",
      "{'_id': ObjectId('5cdd829bf7a1b616ca92f222'), 'TeamName': 'Bournemouth'}\n"
     ]
    }
   ],
   "source": [
    "mongo_display_collection_contents(name_collection)"
   ]
  },
  {
   "cell_type": "markdown",
   "metadata": {},
   "source": [
    "### Start working on creating the DataFrame with all of the relevant information"
   ]
  },
  {
   "cell_type": "markdown",
   "metadata": {},
   "source": [
    "### Table: Matches\n",
    "\n",
    "Match_ID (int): unique ID per match\n",
    "Div (str): identifies the division the match was played in (D1 = Bundesliga, D2 = Bundesliga 2, E0 = English Premier League)\n",
    "\n",
    "Season (int): Season the match took place in (usually covering the period of August till May of the following year)\n",
    "\n",
    "Date (str): Date of the match\n",
    "\n",
    "HomeTeam (str): Name of the home team\n",
    "\n",
    "AwayTeam (str): Name of the away team\n",
    "\n",
    "FTHG (int) (Full Time Home Goals): Number of goals scored by the home team\n",
    "\n",
    "FTAG (int) (Full Time Away Goals): Number of goals scored by the away team\n",
    "\n",
    "FTR (str) (Full Time Result): 3-way result of the match (H = Home Win, D = Draw, A = Away Win)\n",
    "\n",
    "### Table: Teams\n",
    "\n",
    "Season (str): Football season for which the data is valid\n",
    "\n",
    "TeamName (str): Name of the team the data concerns\n",
    "\n",
    "KaderHome (str): Number of Players in the squad\n",
    "\n",
    "AvgAgeHome (str): Average age of players\n",
    "\n",
    "ForeignPlayersHome (str): Number of foreign players (non-German, non-English respectively) playing for the team\n",
    "\n",
    "OverallMarketValueHome (str): Overall market value of the team pre-season in EUR (based on data from transfermarkt.de)\n",
    "\n",
    "AvgMarketValueHome (str): Average market value (per player) of the team pre-season in EUR (based on data from transfermarkt.de)\n",
    "\n",
    "StadiumCapacity (str): Maximum stadium capacity of the team's home stadium\n",
    "\n",
    "### Table: Unique Teams\n",
    "\n",
    "TeamName (str): Name of a team\n",
    "\n",
    "Unique_Team_ID (int): Unique identifier for each team\n",
    "\n",
    "### Table: Teams_in_Matches\n",
    "\n",
    "Match_ID (int): Unique match ID\n",
    "\n",
    "Unique_Team_ID (int): Unique team ID (This table is used to easily retrieve each match a given team has played in)"
   ]
  },
  {
   "cell_type": "markdown",
   "metadata": {},
   "source": [
    "![tables](tables.png)"
   ]
  },
  {
   "cell_type": "markdown",
   "metadata": {},
   "source": [
    "<img src=\"tables2.png\" alt=\"drawing\" width=\"40%\"/>"
   ]
  },
  {
   "cell_type": "code",
   "execution_count": 32,
   "metadata": {
    "collapsed": true
   },
   "outputs": [],
   "source": [
    "mongo_entry = {\n",
    "    'name': '', # str, The name of the team\n",
    "    'goals_scored': 0, # int, The total number of goals scored by the team during the 2011 season\n",
    "    'total_wins': 0, # int, The total number of wins the team earned during the 2011 season\n",
    "    'total_losses': '', # int, The total number of wins the team earned during the 2011 season\n",
    "    'raining_win_percentage': 0.0 # float, The team's win percentage on days where it was raining during games in the 2011 season.\n",
    "}"
   ]
  },
  {
   "cell_type": "code",
   "execution_count": 48,
   "metadata": {},
   "outputs": [
    {
     "data": {
      "text/html": [
       "<div>\n",
       "<style scoped>\n",
       "    .dataframe tbody tr th:only-of-type {\n",
       "        vertical-align: middle;\n",
       "    }\n",
       "\n",
       "    .dataframe tbody tr th {\n",
       "        vertical-align: top;\n",
       "    }\n",
       "\n",
       "    .dataframe thead th {\n",
       "        text-align: right;\n",
       "    }\n",
       "</style>\n",
       "<table border=\"1\" class=\"dataframe\">\n",
       "  <thead>\n",
       "    <tr style=\"text-align: right;\">\n",
       "      <th></th>\n",
       "      <th>Match_ID</th>\n",
       "      <th>Div</th>\n",
       "      <th>Season</th>\n",
       "      <th>Date</th>\n",
       "      <th>HomeTeam</th>\n",
       "      <th>AwayTeam</th>\n",
       "      <th>FTHG</th>\n",
       "      <th>FTAG</th>\n",
       "      <th>FTR</th>\n",
       "    </tr>\n",
       "  </thead>\n",
       "  <tbody>\n",
       "    <tr>\n",
       "      <th>0</th>\n",
       "      <td>1</td>\n",
       "      <td>D2</td>\n",
       "      <td>2009</td>\n",
       "      <td>2010-04-04</td>\n",
       "      <td>Oberhausen</td>\n",
       "      <td>Kaiserslautern</td>\n",
       "      <td>2</td>\n",
       "      <td>1</td>\n",
       "      <td>H</td>\n",
       "    </tr>\n",
       "    <tr>\n",
       "      <th>1</th>\n",
       "      <td>2</td>\n",
       "      <td>D2</td>\n",
       "      <td>2009</td>\n",
       "      <td>2009-11-01</td>\n",
       "      <td>Munich 1860</td>\n",
       "      <td>Kaiserslautern</td>\n",
       "      <td>0</td>\n",
       "      <td>1</td>\n",
       "      <td>A</td>\n",
       "    </tr>\n",
       "    <tr>\n",
       "      <th>2</th>\n",
       "      <td>3</td>\n",
       "      <td>D2</td>\n",
       "      <td>2009</td>\n",
       "      <td>2009-10-04</td>\n",
       "      <td>Frankfurt FSV</td>\n",
       "      <td>Kaiserslautern</td>\n",
       "      <td>1</td>\n",
       "      <td>1</td>\n",
       "      <td>D</td>\n",
       "    </tr>\n",
       "    <tr>\n",
       "      <th>3</th>\n",
       "      <td>4</td>\n",
       "      <td>D2</td>\n",
       "      <td>2009</td>\n",
       "      <td>2010-02-21</td>\n",
       "      <td>Frankfurt FSV</td>\n",
       "      <td>Karlsruhe</td>\n",
       "      <td>2</td>\n",
       "      <td>1</td>\n",
       "      <td>H</td>\n",
       "    </tr>\n",
       "    <tr>\n",
       "      <th>4</th>\n",
       "      <td>5</td>\n",
       "      <td>D2</td>\n",
       "      <td>2009</td>\n",
       "      <td>2009-12-06</td>\n",
       "      <td>Ahlen</td>\n",
       "      <td>Karlsruhe</td>\n",
       "      <td>1</td>\n",
       "      <td>3</td>\n",
       "      <td>A</td>\n",
       "    </tr>\n",
       "  </tbody>\n",
       "</table>\n",
       "</div>"
      ],
      "text/plain": [
       "   Match_ID Div  Season        Date       HomeTeam        AwayTeam  FTHG  \\\n",
       "0         1  D2    2009  2010-04-04     Oberhausen  Kaiserslautern     2   \n",
       "1         2  D2    2009  2009-11-01    Munich 1860  Kaiserslautern     0   \n",
       "2         3  D2    2009  2009-10-04  Frankfurt FSV  Kaiserslautern     1   \n",
       "3         4  D2    2009  2010-02-21  Frankfurt FSV       Karlsruhe     2   \n",
       "4         5  D2    2009  2009-12-06          Ahlen       Karlsruhe     1   \n",
       "\n",
       "   FTAG FTR  \n",
       "0     1   H  \n",
       "1     1   A  \n",
       "2     1   D  \n",
       "3     1   H  \n",
       "4     3   A  "
      ]
     },
     "execution_count": 48,
     "metadata": {},
     "output_type": "execute_result"
    }
   ],
   "source": [
    "matches_df = sql_query_to_df(c, \"\"\"SELECT * FROM Matches\n",
    "\"\"\")\n",
    "matches_df.head()"
   ]
  },
  {
   "cell_type": "code",
   "execution_count": 49,
   "metadata": {},
   "outputs": [
    {
     "data": {
      "text/html": [
       "<div>\n",
       "<style scoped>\n",
       "    .dataframe tbody tr th:only-of-type {\n",
       "        vertical-align: middle;\n",
       "    }\n",
       "\n",
       "    .dataframe tbody tr th {\n",
       "        vertical-align: top;\n",
       "    }\n",
       "\n",
       "    .dataframe thead th {\n",
       "        text-align: right;\n",
       "    }\n",
       "</style>\n",
       "<table border=\"1\" class=\"dataframe\">\n",
       "  <thead>\n",
       "    <tr style=\"text-align: right;\">\n",
       "      <th></th>\n",
       "      <th>Match_ID</th>\n",
       "      <th>Season</th>\n",
       "      <th>FTHG</th>\n",
       "      <th>FTAG</th>\n",
       "    </tr>\n",
       "  </thead>\n",
       "  <tbody>\n",
       "    <tr>\n",
       "      <th>count</th>\n",
       "      <td>24625.000000</td>\n",
       "      <td>24625.000000</td>\n",
       "      <td>24625.000000</td>\n",
       "      <td>24625.000000</td>\n",
       "    </tr>\n",
       "    <tr>\n",
       "      <th>mean</th>\n",
       "      <td>27335.103228</td>\n",
       "      <td>2004.698761</td>\n",
       "      <td>1.517036</td>\n",
       "      <td>1.097503</td>\n",
       "    </tr>\n",
       "    <tr>\n",
       "      <th>std</th>\n",
       "      <td>16631.846062</td>\n",
       "      <td>7.166931</td>\n",
       "      <td>1.359471</td>\n",
       "      <td>1.163510</td>\n",
       "    </tr>\n",
       "    <tr>\n",
       "      <th>min</th>\n",
       "      <td>1.000000</td>\n",
       "      <td>1993.000000</td>\n",
       "      <td>-1.000000</td>\n",
       "      <td>-1.000000</td>\n",
       "    </tr>\n",
       "    <tr>\n",
       "      <th>25%</th>\n",
       "      <td>6157.000000</td>\n",
       "      <td>1998.000000</td>\n",
       "      <td>1.000000</td>\n",
       "      <td>0.000000</td>\n",
       "    </tr>\n",
       "    <tr>\n",
       "      <th>50%</th>\n",
       "      <td>34460.000000</td>\n",
       "      <td>2005.000000</td>\n",
       "      <td>1.000000</td>\n",
       "      <td>1.000000</td>\n",
       "    </tr>\n",
       "    <tr>\n",
       "      <th>75%</th>\n",
       "      <td>40618.000000</td>\n",
       "      <td>2011.000000</td>\n",
       "      <td>2.000000</td>\n",
       "      <td>2.000000</td>\n",
       "    </tr>\n",
       "    <tr>\n",
       "      <th>max</th>\n",
       "      <td>46774.000000</td>\n",
       "      <td>2017.000000</td>\n",
       "      <td>9.000000</td>\n",
       "      <td>9.000000</td>\n",
       "    </tr>\n",
       "  </tbody>\n",
       "</table>\n",
       "</div>"
      ],
      "text/plain": [
       "           Match_ID        Season          FTHG          FTAG\n",
       "count  24625.000000  24625.000000  24625.000000  24625.000000\n",
       "mean   27335.103228   2004.698761      1.517036      1.097503\n",
       "std    16631.846062      7.166931      1.359471      1.163510\n",
       "min        1.000000   1993.000000     -1.000000     -1.000000\n",
       "25%     6157.000000   1998.000000      1.000000      0.000000\n",
       "50%    34460.000000   2005.000000      1.000000      1.000000\n",
       "75%    40618.000000   2011.000000      2.000000      2.000000\n",
       "max    46774.000000   2017.000000      9.000000      9.000000"
      ]
     },
     "execution_count": 49,
     "metadata": {},
     "output_type": "execute_result"
    }
   ],
   "source": [
    "matches_df.describe()"
   ]
  },
  {
   "cell_type": "markdown",
   "metadata": {},
   "source": [
    "Some of the matches have \"-1\" goals. This doesn't seem to be the case for the matches in 2011, which are the matches that we care about"
   ]
  },
  {
   "cell_type": "code",
   "execution_count": 57,
   "metadata": {
    "collapsed": true
   },
   "outputs": [],
   "source": [
    "def get_matches_for_year(cursor, year):\n",
    "    matches_df = sql_query_to_df(cursor, \"\"\"SELECT * FROM Matches\n",
    "\"\"\")\n",
    "    matches_df_year = matches_df[matches_df[\"Date\"].str.contains(str(year))]\n",
    "    return matches_df_year"
   ]
  },
  {
   "cell_type": "code",
   "execution_count": 58,
   "metadata": {},
   "outputs": [
    {
     "data": {
      "text/html": [
       "<div>\n",
       "<style scoped>\n",
       "    .dataframe tbody tr th:only-of-type {\n",
       "        vertical-align: middle;\n",
       "    }\n",
       "\n",
       "    .dataframe tbody tr th {\n",
       "        vertical-align: top;\n",
       "    }\n",
       "\n",
       "    .dataframe thead th {\n",
       "        text-align: right;\n",
       "    }\n",
       "</style>\n",
       "<table border=\"1\" class=\"dataframe\">\n",
       "  <thead>\n",
       "    <tr style=\"text-align: right;\">\n",
       "      <th></th>\n",
       "      <th>Match_ID</th>\n",
       "      <th>Div</th>\n",
       "      <th>Season</th>\n",
       "      <th>Date</th>\n",
       "      <th>HomeTeam</th>\n",
       "      <th>AwayTeam</th>\n",
       "      <th>FTHG</th>\n",
       "      <th>FTAG</th>\n",
       "      <th>FTR</th>\n",
       "    </tr>\n",
       "  </thead>\n",
       "  <tbody>\n",
       "    <tr>\n",
       "      <th>480</th>\n",
       "      <td>481</td>\n",
       "      <td>D1</td>\n",
       "      <td>2010</td>\n",
       "      <td>2011-01-15</td>\n",
       "      <td>Wolfsburg</td>\n",
       "      <td>Bayern Munich</td>\n",
       "      <td>1</td>\n",
       "      <td>1</td>\n",
       "      <td>D</td>\n",
       "    </tr>\n",
       "    <tr>\n",
       "      <th>482</th>\n",
       "      <td>483</td>\n",
       "      <td>D1</td>\n",
       "      <td>2010</td>\n",
       "      <td>2011-04-23</td>\n",
       "      <td>Ein Frankfurt</td>\n",
       "      <td>Bayern Munich</td>\n",
       "      <td>1</td>\n",
       "      <td>1</td>\n",
       "      <td>D</td>\n",
       "    </tr>\n",
       "    <tr>\n",
       "      <th>484</th>\n",
       "      <td>485</td>\n",
       "      <td>D1</td>\n",
       "      <td>2010</td>\n",
       "      <td>2011-03-05</td>\n",
       "      <td>Hannover</td>\n",
       "      <td>Bayern Munich</td>\n",
       "      <td>3</td>\n",
       "      <td>1</td>\n",
       "      <td>H</td>\n",
       "    </tr>\n",
       "    <tr>\n",
       "      <th>488</th>\n",
       "      <td>489</td>\n",
       "      <td>D1</td>\n",
       "      <td>2010</td>\n",
       "      <td>2011-01-29</td>\n",
       "      <td>Werder Bremen</td>\n",
       "      <td>Bayern Munich</td>\n",
       "      <td>1</td>\n",
       "      <td>3</td>\n",
       "      <td>A</td>\n",
       "    </tr>\n",
       "    <tr>\n",
       "      <th>489</th>\n",
       "      <td>490</td>\n",
       "      <td>D1</td>\n",
       "      <td>2010</td>\n",
       "      <td>2011-02-05</td>\n",
       "      <td>FC Koln</td>\n",
       "      <td>Bayern Munich</td>\n",
       "      <td>3</td>\n",
       "      <td>2</td>\n",
       "      <td>H</td>\n",
       "    </tr>\n",
       "  </tbody>\n",
       "</table>\n",
       "</div>"
      ],
      "text/plain": [
       "     Match_ID Div  Season        Date       HomeTeam       AwayTeam  FTHG  \\\n",
       "480       481  D1    2010  2011-01-15      Wolfsburg  Bayern Munich     1   \n",
       "482       483  D1    2010  2011-04-23  Ein Frankfurt  Bayern Munich     1   \n",
       "484       485  D1    2010  2011-03-05       Hannover  Bayern Munich     3   \n",
       "488       489  D1    2010  2011-01-29  Werder Bremen  Bayern Munich     1   \n",
       "489       490  D1    2010  2011-02-05        FC Koln  Bayern Munich     3   \n",
       "\n",
       "     FTAG FTR  \n",
       "480     1   D  \n",
       "482     1   D  \n",
       "484     1   H  \n",
       "488     3   A  \n",
       "489     2   H  "
      ]
     },
     "execution_count": 58,
     "metadata": {},
     "output_type": "execute_result"
    }
   ],
   "source": [
    "matches_df_2011 = get_matches_for_year(c, 2011)\n",
    "matches_df_2011.head()"
   ]
  },
  {
   "cell_type": "code",
   "execution_count": 59,
   "metadata": {},
   "outputs": [
    {
     "data": {
      "text/html": [
       "<div>\n",
       "<style scoped>\n",
       "    .dataframe tbody tr th:only-of-type {\n",
       "        vertical-align: middle;\n",
       "    }\n",
       "\n",
       "    .dataframe tbody tr th {\n",
       "        vertical-align: top;\n",
       "    }\n",
       "\n",
       "    .dataframe thead th {\n",
       "        text-align: right;\n",
       "    }\n",
       "</style>\n",
       "<table border=\"1\" class=\"dataframe\">\n",
       "  <thead>\n",
       "    <tr style=\"text-align: right;\">\n",
       "      <th></th>\n",
       "      <th>Match_ID</th>\n",
       "      <th>Season</th>\n",
       "      <th>FTHG</th>\n",
       "      <th>FTAG</th>\n",
       "    </tr>\n",
       "  </thead>\n",
       "  <tbody>\n",
       "    <tr>\n",
       "      <th>count</th>\n",
       "      <td>1008.000000</td>\n",
       "      <td>1008.000000</td>\n",
       "      <td>1008.000000</td>\n",
       "      <td>1008.000000</td>\n",
       "    </tr>\n",
       "    <tr>\n",
       "      <th>mean</th>\n",
       "      <td>17331.154762</td>\n",
       "      <td>2010.506944</td>\n",
       "      <td>1.613095</td>\n",
       "      <td>1.231151</td>\n",
       "    </tr>\n",
       "    <tr>\n",
       "      <th>std</th>\n",
       "      <td>21007.383568</td>\n",
       "      <td>0.500200</td>\n",
       "      <td>1.318687</td>\n",
       "      <td>1.174515</td>\n",
       "    </tr>\n",
       "    <tr>\n",
       "      <th>min</th>\n",
       "      <td>481.000000</td>\n",
       "      <td>2010.000000</td>\n",
       "      <td>0.000000</td>\n",
       "      <td>0.000000</td>\n",
       "    </tr>\n",
       "    <tr>\n",
       "      <th>25%</th>\n",
       "      <td>982.750000</td>\n",
       "      <td>2010.000000</td>\n",
       "      <td>1.000000</td>\n",
       "      <td>0.000000</td>\n",
       "    </tr>\n",
       "    <tr>\n",
       "      <th>50%</th>\n",
       "      <td>1470.500000</td>\n",
       "      <td>2011.000000</td>\n",
       "      <td>1.000000</td>\n",
       "      <td>1.000000</td>\n",
       "    </tr>\n",
       "    <tr>\n",
       "      <th>75%</th>\n",
       "      <td>44429.250000</td>\n",
       "      <td>2011.000000</td>\n",
       "      <td>2.000000</td>\n",
       "      <td>2.000000</td>\n",
       "    </tr>\n",
       "    <tr>\n",
       "      <th>max</th>\n",
       "      <td>44681.000000</td>\n",
       "      <td>2011.000000</td>\n",
       "      <td>8.000000</td>\n",
       "      <td>8.000000</td>\n",
       "    </tr>\n",
       "  </tbody>\n",
       "</table>\n",
       "</div>"
      ],
      "text/plain": [
       "           Match_ID       Season         FTHG         FTAG\n",
       "count   1008.000000  1008.000000  1008.000000  1008.000000\n",
       "mean   17331.154762  2010.506944     1.613095     1.231151\n",
       "std    21007.383568     0.500200     1.318687     1.174515\n",
       "min      481.000000  2010.000000     0.000000     0.000000\n",
       "25%      982.750000  2010.000000     1.000000     0.000000\n",
       "50%     1470.500000  2011.000000     1.000000     1.000000\n",
       "75%    44429.250000  2011.000000     2.000000     2.000000\n",
       "max    44681.000000  2011.000000     8.000000     8.000000"
      ]
     },
     "execution_count": 59,
     "metadata": {},
     "output_type": "execute_result"
    }
   ],
   "source": [
    "matches_df_2011.describe()"
   ]
  },
  {
   "cell_type": "code",
   "execution_count": 32,
   "metadata": {
    "collapsed": true
   },
   "outputs": [],
   "source": [
    "mongo_entry = {\n",
    "    'name': '', # str, The name of the team\n",
    "    'goals_scored': 0, # int, The total number of goals scored by the team during the 2011 season\n",
    "    'total_wins': 0, # int, The total number of wins the team earned during the 2011 season\n",
    "    'total_losses': 0, # int, The total number of wins the team earned during the 2011 season\n",
    "    'raining_win_percentage': 0.0 # float, The team's win percentage on days where it was raining during games in the 2011 season.\n",
    "}"
   ]
  },
  {
   "cell_type": "code",
   "execution_count": 70,
   "metadata": {
    "collapsed": true
   },
   "outputs": [],
   "source": [
    "# goals_scored = goals_scored_as_home_team + goals_scored_as_away_team\n",
    "# total_wins = home wins where the team was the home team + away wins where the team was the away team\n",
    "# total_losses = home wins where the team was the away team + away wins where the team was the home team\n",
    "# raining_win_percentage: take rows where Rained == True and compute (wins)/(total games played)"
   ]
  },
  {
   "cell_type": "code",
   "execution_count": 71,
   "metadata": {},
   "outputs": [
    {
     "data": {
      "text/html": [
       "<div>\n",
       "<style scoped>\n",
       "    .dataframe tbody tr th:only-of-type {\n",
       "        vertical-align: middle;\n",
       "    }\n",
       "\n",
       "    .dataframe tbody tr th {\n",
       "        vertical-align: top;\n",
       "    }\n",
       "\n",
       "    .dataframe thead th {\n",
       "        text-align: right;\n",
       "    }\n",
       "</style>\n",
       "<table border=\"1\" class=\"dataframe\">\n",
       "  <thead>\n",
       "    <tr style=\"text-align: right;\">\n",
       "      <th></th>\n",
       "      <th>Match_ID</th>\n",
       "      <th>Div</th>\n",
       "      <th>Season</th>\n",
       "      <th>Date</th>\n",
       "      <th>HomeTeam</th>\n",
       "      <th>AwayTeam</th>\n",
       "      <th>FTHG</th>\n",
       "      <th>FTAG</th>\n",
       "      <th>FTR</th>\n",
       "      <th>Rained</th>\n",
       "    </tr>\n",
       "  </thead>\n",
       "  <tbody>\n",
       "    <tr>\n",
       "      <th>480</th>\n",
       "      <td>481</td>\n",
       "      <td>D1</td>\n",
       "      <td>2010</td>\n",
       "      <td>2011-01-15</td>\n",
       "      <td>Wolfsburg</td>\n",
       "      <td>Bayern Munich</td>\n",
       "      <td>1</td>\n",
       "      <td>1</td>\n",
       "      <td>D</td>\n",
       "      <td>True</td>\n",
       "    </tr>\n",
       "    <tr>\n",
       "      <th>482</th>\n",
       "      <td>483</td>\n",
       "      <td>D1</td>\n",
       "      <td>2010</td>\n",
       "      <td>2011-04-23</td>\n",
       "      <td>Ein Frankfurt</td>\n",
       "      <td>Bayern Munich</td>\n",
       "      <td>1</td>\n",
       "      <td>1</td>\n",
       "      <td>D</td>\n",
       "      <td>False</td>\n",
       "    </tr>\n",
       "    <tr>\n",
       "      <th>484</th>\n",
       "      <td>485</td>\n",
       "      <td>D1</td>\n",
       "      <td>2010</td>\n",
       "      <td>2011-03-05</td>\n",
       "      <td>Hannover</td>\n",
       "      <td>Bayern Munich</td>\n",
       "      <td>3</td>\n",
       "      <td>1</td>\n",
       "      <td>H</td>\n",
       "      <td>False</td>\n",
       "    </tr>\n",
       "    <tr>\n",
       "      <th>488</th>\n",
       "      <td>489</td>\n",
       "      <td>D1</td>\n",
       "      <td>2010</td>\n",
       "      <td>2011-01-29</td>\n",
       "      <td>Werder Bremen</td>\n",
       "      <td>Bayern Munich</td>\n",
       "      <td>1</td>\n",
       "      <td>3</td>\n",
       "      <td>A</td>\n",
       "      <td>False</td>\n",
       "    </tr>\n",
       "    <tr>\n",
       "      <th>489</th>\n",
       "      <td>490</td>\n",
       "      <td>D1</td>\n",
       "      <td>2010</td>\n",
       "      <td>2011-02-05</td>\n",
       "      <td>FC Koln</td>\n",
       "      <td>Bayern Munich</td>\n",
       "      <td>3</td>\n",
       "      <td>2</td>\n",
       "      <td>H</td>\n",
       "      <td>True</td>\n",
       "    </tr>\n",
       "  </tbody>\n",
       "</table>\n",
       "</div>"
      ],
      "text/plain": [
       "     Match_ID Div  Season        Date       HomeTeam       AwayTeam  FTHG  \\\n",
       "480       481  D1    2010  2011-01-15      Wolfsburg  Bayern Munich     1   \n",
       "482       483  D1    2010  2011-04-23  Ein Frankfurt  Bayern Munich     1   \n",
       "484       485  D1    2010  2011-03-05       Hannover  Bayern Munich     3   \n",
       "488       489  D1    2010  2011-01-29  Werder Bremen  Bayern Munich     1   \n",
       "489       490  D1    2010  2011-02-05        FC Koln  Bayern Munich     3   \n",
       "\n",
       "     FTAG FTR  Rained  \n",
       "480     1   D    True  \n",
       "482     1   D   False  \n",
       "484     1   H   False  \n",
       "488     3   A   False  \n",
       "489     2   H    True  "
      ]
     },
     "execution_count": 71,
     "metadata": {},
     "output_type": "execute_result"
    }
   ],
   "source": [
    "matches_df_2011.head()"
   ]
  },
  {
   "cell_type": "code",
   "execution_count": 72,
   "metadata": {},
   "outputs": [
    {
     "data": {
      "text/plain": [
       "1008"
      ]
     },
     "execution_count": 72,
     "metadata": {},
     "output_type": "execute_result"
    }
   ],
   "source": [
    "len(matches_df_2011)"
   ]
  },
  {
   "cell_type": "code",
   "execution_count": 73,
   "metadata": {
    "collapsed": true
   },
   "outputs": [],
   "source": [
    "all_teams = list(set(list(matches_df_2011[\"HomeTeam\"])+list(matches_df_2011[\"AwayTeam\"])))"
   ]
  },
  {
   "cell_type": "code",
   "execution_count": 108,
   "metadata": {},
   "outputs": [],
   "source": [
    "summary_list = []\n",
    "for team in all_teams:\n",
    "    home_goals = matches_df_2011[matches_df_2011[\"HomeTeam\"] == team][\"FTHG\"].sum()\n",
    "    away_goals = matches_df_2011[matches_df_2011[\"AwayTeam\"] == team][\"FTAG\"].sum()\n",
    "    goals_scored = home_goals + away_goals\n",
    "    home_wins = len(matches_df_2011[(matches_df_2011[\"HomeTeam\"] == team) & (matches_df_2011[\"FTR\"] == \"H\")])\n",
    "    away_wins = len(matches_df_2011[(matches_df_2011[\"AwayTeam\"] == team) & (matches_df_2011[\"FTR\"] == \"A\")])\n",
    "    total_wins = home_wins + away_wins\n",
    "    home_losses = len(matches_df_2011[(matches_df_2011[\"HomeTeam\"] == team) & (matches_df_2011[\"FTR\"] == \"A\")])\n",
    "    away_losses = len(matches_df_2011[(matches_df_2011[\"AwayTeam\"] == team) & (matches_df_2011[\"FTR\"] == \"H\")])\n",
    "    total_losses = home_wins + away_wins\n",
    "    raining_df = matches_df_2011[matches_df_2011[\"Rained\"]]\n",
    "    raining_home_wins = len(raining_df[(raining_df[\"HomeTeam\"] == team) & (raining_df[\"FTR\"] == \"H\")])\n",
    "    raining_away_wins = len(raining_df[(raining_df[\"AwayTeam\"] == team) & (raining_df[\"FTR\"] == \"A\")])\n",
    "    raining_wins = raining_home_wins + raining_away_wins\n",
    "    raining_games = len(raining_df[(raining_df[\"HomeTeam\"] == team) | (raining_df[\"AwayTeam\"] == team)])\n",
    "    raining_win_percentage = float(raining_wins)/float(raining_games)\n",
    "    summary_list.append({'name': team, 'goals_scored': str(goals_scored), 'total_wins': str(total_wins), \n",
    "                          'total_losses': str(total_losses), 'raining_win_percentage': str(raining_win_percentage)})"
   ]
  },
  {
   "cell_type": "code",
   "execution_count": 112,
   "metadata": {
    "collapsed": true
   },
   "outputs": [],
   "source": [
    "def compute_summary_list_of_dicts(matches_df, raining_dict):\n",
    "    summary_list = []\n",
    "    for team in all_teams:\n",
    "        home_goals = matches_df[matches_df[\"HomeTeam\"] == team][\"FTHG\"].sum()\n",
    "        away_goals = matches_df[matches_df[\"AwayTeam\"] == team][\"FTAG\"].sum()\n",
    "        goals_scored = home_goals + away_goals\n",
    "        home_wins = len(matches_df[(matches_df[\"HomeTeam\"] == team) & (matches_df[\"FTR\"] == \"H\")])\n",
    "        away_wins = len(matches_df[(matches_df[\"AwayTeam\"] == team) & (matches_df[\"FTR\"] == \"A\")])\n",
    "        total_wins = home_wins + away_wins\n",
    "        home_losses = len(matches_df[(matches_df[\"HomeTeam\"] == team) & (matches_df[\"FTR\"] == \"A\")])\n",
    "        away_losses = len(matches_df[(matches_df[\"AwayTeam\"] == team) & (matches_df[\"FTR\"] == \"H\")])\n",
    "        total_losses = home_wins + away_wins\n",
    "        raining_df = matches_df[matches_df[\"Rained\"]]\n",
    "        raining_home_wins = len(raining_df[(raining_df[\"HomeTeam\"] == team) & (raining_df[\"FTR\"] == \"H\")])\n",
    "        raining_away_wins = len(raining_df[(raining_df[\"AwayTeam\"] == team) & (raining_df[\"FTR\"] == \"A\")])\n",
    "        raining_wins = raining_home_wins + raining_away_wins\n",
    "        raining_games = len(raining_df[(raining_df[\"HomeTeam\"] == team) | (raining_df[\"AwayTeam\"] == team)])\n",
    "        raining_win_percentage = float(raining_wins)/float(raining_games)\n",
    "        summary_list.append({'name': team, 'goals_scored': str(goals_scored), 'total_wins': str(total_wins), \n",
    "                              'total_losses': str(total_losses), 'raining_win_percentage': str(raining_win_percentage)})\n",
    "    return summary_list"
   ]
  },
  {
   "cell_type": "markdown",
   "metadata": {},
   "source": [
    "### Sending summary list to MongoDB"
   ]
  },
  {
   "cell_type": "code",
   "execution_count": 109,
   "metadata": {
    "collapsed": true
   },
   "outputs": [],
   "source": [
    "summary_collection = get_mongo_collection(database_name=\"summary_database\", collection_name=\"summary_collection\")"
   ]
  },
  {
   "cell_type": "code",
   "execution_count": 110,
   "metadata": {},
   "outputs": [
    {
     "data": {
      "text/plain": [
       "<pymongo.results.InsertManyResult at 0x11eb31f08>"
      ]
     },
     "execution_count": 110,
     "metadata": {},
     "output_type": "execute_result"
    }
   ],
   "source": [
    "summary_collection.insert_many(summary_list)"
   ]
  },
  {
   "cell_type": "code",
   "execution_count": 111,
   "metadata": {},
   "outputs": [
    {
     "name": "stdout",
     "output_type": "stream",
     "text": [
      "{'_id': ObjectId('5cdd958df7a1b616ca92f264'), 'name': 'Chelsea', 'goals_scored': '73', 'total_wins': '21', 'total_losses': '21', 'raining_win_percentage': '0.5'}\n",
      "{'_id': ObjectId('5cdd958df7a1b616ca92f265'), 'name': 'Duisburg', 'goals_scored': '49', 'total_wins': '11', 'total_losses': '11', 'raining_win_percentage': '0.3888888888888889'}\n",
      "{'_id': ObjectId('5cdd958df7a1b616ca92f266'), 'name': 'Norwich', 'goals_scored': '28', 'total_wins': '5', 'total_losses': '5', 'raining_win_percentage': '0.2857142857142857'}\n",
      "{'_id': ObjectId('5cdd958df7a1b616ca92f267'), 'name': 'Augsburg', 'goals_scored': '39', 'total_wins': '12', 'total_losses': '12', 'raining_win_percentage': '0.3333333333333333'}\n",
      "{'_id': ObjectId('5cdd958df7a1b616ca92f268'), 'name': 'Ein Frankfurt', 'goals_scored': '48', 'total_wins': '12', 'total_losses': '12', 'raining_win_percentage': '0.2727272727272727'}\n",
      "{'_id': ObjectId('5cdd958df7a1b616ca92f269'), 'name': 'Frankfurt FSV', 'goals_scored': '35', 'total_wins': '4', 'total_losses': '4', 'raining_win_percentage': '0.058823529411764705'}\n",
      "{'_id': ObjectId('5cdd958df7a1b616ca92f26a'), 'name': 'Hamburg', 'goals_scored': '40', 'total_wins': '9', 'total_losses': '9', 'raining_win_percentage': '0.18181818181818182'}\n",
      "{'_id': ObjectId('5cdd958df7a1b616ca92f26b'), 'name': 'Paderborn', 'goals_scored': '45', 'total_wins': '15', 'total_losses': '15', 'raining_win_percentage': '0.6428571428571429'}\n",
      "{'_id': ObjectId('5cdd958df7a1b616ca92f26c'), 'name': 'Bolton', 'goals_scored': '43', 'total_wins': '9', 'total_losses': '9', 'raining_win_percentage': '0.06666666666666667'}\n",
      "{'_id': ObjectId('5cdd958df7a1b616ca92f26d'), 'name': 'Man City', 'goals_scored': '81', 'total_wins': '24', 'total_losses': '24', 'raining_win_percentage': '0.8'}\n",
      "{'_id': ObjectId('5cdd958df7a1b616ca92f26e'), 'name': 'Werder Bremen', 'goals_scored': '54', 'total_wins': '14', 'total_losses': '14', 'raining_win_percentage': '0.5'}\n",
      "{'_id': ObjectId('5cdd958df7a1b616ca92f26f'), 'name': 'Everton', 'goals_scored': '48', 'total_wins': '15', 'total_losses': '15', 'raining_win_percentage': '0.42857142857142855'}\n",
      "{'_id': ObjectId('5cdd958df7a1b616ca92f270'), 'name': 'Aachen', 'goals_scored': '50', 'total_wins': '9', 'total_losses': '9', 'raining_win_percentage': '0.21428571428571427'}\n",
      "{'_id': ObjectId('5cdd958df7a1b616ca92f271'), 'name': 'Schalke 04', 'goals_scored': '51', 'total_wins': '16', 'total_losses': '16', 'raining_win_percentage': '0.3333333333333333'}\n",
      "{'_id': ObjectId('5cdd958df7a1b616ca92f272'), 'name': 'Leverkusen', 'goals_scored': '51', 'total_wins': '18', 'total_losses': '18', 'raining_win_percentage': '0.35714285714285715'}\n",
      "{'_id': ObjectId('5cdd958df7a1b616ca92f273'), 'name': 'Wolves', 'goals_scored': '47', 'total_wins': '10', 'total_losses': '10', 'raining_win_percentage': '0.23076923076923078'}\n",
      "{'_id': ObjectId('5cdd958df7a1b616ca92f274'), 'name': 'Erzgebirge Aue', 'goals_scored': '37', 'total_wins': '11', 'total_losses': '11', 'raining_win_percentage': '0.08333333333333333'}\n",
      "{'_id': ObjectId('5cdd958df7a1b616ca92f275'), 'name': 'Fulham', 'goals_scored': '50', 'total_wins': '12', 'total_losses': '12', 'raining_win_percentage': '0.1875'}\n",
      "{'_id': ObjectId('5cdd958df7a1b616ca92f276'), 'name': 'Hertha', 'goals_scored': '68', 'total_wins': '17', 'total_losses': '17', 'raining_win_percentage': '0.3076923076923077'}\n",
      "{'_id': ObjectId('5cdd958df7a1b616ca92f277'), 'name': 'Fortuna Dusseldorf', 'goals_scored': '78', 'total_wins': '21', 'total_losses': '21', 'raining_win_percentage': '0.46153846153846156'}\n",
      "{'_id': ObjectId('5cdd958df7a1b616ca92f278'), 'name': 'Man United', 'goals_scored': '88', 'total_wins': '27', 'total_losses': '27', 'raining_win_percentage': '0.7058823529411765'}\n",
      "{'_id': ObjectId('5cdd958df7a1b616ca92f279'), 'name': 'Karlsruhe', 'goals_scored': '43', 'total_wins': '7', 'total_losses': '7', 'raining_win_percentage': '0.16666666666666666'}\n",
      "{'_id': ObjectId('5cdd958df7a1b616ca92f27a'), 'name': 'Greuther Furth', 'goals_scored': '63', 'total_wins': '20', 'total_losses': '20', 'raining_win_percentage': '0.5333333333333333'}\n",
      "{'_id': ObjectId('5cdd958df7a1b616ca92f27b'), 'name': 'Stuttgart', 'goals_scored': '51', 'total_wins': '15', 'total_losses': '15', 'raining_win_percentage': '0.5'}\n",
      "{'_id': ObjectId('5cdd958df7a1b616ca92f27c'), 'name': 'Bielefeld', 'goals_scored': '16', 'total_wins': '2', 'total_losses': '2', 'raining_win_percentage': '0.0'}\n",
      "{'_id': ObjectId('5cdd958df7a1b616ca92f27d'), 'name': 'Dresden', 'goals_scored': '33', 'total_wins': '6', 'total_losses': '6', 'raining_win_percentage': '0.3333333333333333'}\n",
      "{'_id': ObjectId('5cdd958df7a1b616ca92f27e'), 'name': 'Wigan', 'goals_scored': '40', 'total_wins': '8', 'total_losses': '8', 'raining_win_percentage': '0.42857142857142855'}\n",
      "{'_id': ObjectId('5cdd958df7a1b616ca92f27f'), 'name': 'Aston Villa', 'goals_scored': '50', 'total_wins': '12', 'total_losses': '12', 'raining_win_percentage': '0.38461538461538464'}\n",
      "{'_id': ObjectId('5cdd958df7a1b616ca92f280'), 'name': 'Kaiserslautern', 'goals_scored': '34', 'total_wins': '10', 'total_losses': '10', 'raining_win_percentage': '0.2'}\n",
      "{'_id': ObjectId('5cdd958df7a1b616ca92f281'), 'name': 'Oberhausen', 'goals_scored': '16', 'total_wins': '2', 'total_losses': '2', 'raining_win_percentage': '0.25'}\n",
      "{'_id': ObjectId('5cdd958df7a1b616ca92f282'), 'name': 'Birmingham', 'goals_scored': '19', 'total_wins': '5', 'total_losses': '5', 'raining_win_percentage': '0.2'}\n",
      "{'_id': ObjectId('5cdd958df7a1b616ca92f283'), 'name': 'Osnabruck', 'goals_scored': '15', 'total_wins': '3', 'total_losses': '3', 'raining_win_percentage': '0.16666666666666666'}\n",
      "{'_id': ObjectId('5cdd958df7a1b616ca92f284'), 'name': 'QPR', 'goals_scored': '18', 'total_wins': '4', 'total_losses': '4', 'raining_win_percentage': '0.1'}\n",
      "{'_id': ObjectId('5cdd958df7a1b616ca92f285'), 'name': 'Newcastle', 'goals_scored': '54', 'total_wins': '13', 'total_losses': '13', 'raining_win_percentage': '0.14285714285714285'}\n",
      "{'_id': ObjectId('5cdd958df7a1b616ca92f286'), 'name': 'Swansea', 'goals_scored': '18', 'total_wins': '4', 'total_losses': '4', 'raining_win_percentage': '0.125'}\n",
      "{'_id': ObjectId('5cdd958df7a1b616ca92f287'), 'name': 'Mainz', 'goals_scored': '44', 'total_wins': '11', 'total_losses': '11', 'raining_win_percentage': '0.2222222222222222'}\n",
      "{'_id': ObjectId('5cdd958df7a1b616ca92f288'), 'name': 'FC Koln', 'goals_scored': '56', 'total_wins': '15', 'total_losses': '15', 'raining_win_percentage': '0.42857142857142855'}\n",
      "{'_id': ObjectId('5cdd958df7a1b616ca92f289'), 'name': 'Cottbus', 'goals_scored': '50', 'total_wins': '13', 'total_losses': '13', 'raining_win_percentage': '0.23076923076923078'}\n",
      "{'_id': ObjectId('5cdd958df7a1b616ca92f28a'), 'name': 'Blackpool', 'goals_scored': '29', 'total_wins': '3', 'total_losses': '3', 'raining_win_percentage': '0.2857142857142857'}\n",
      "{'_id': ObjectId('5cdd958df7a1b616ca92f28b'), 'name': 'Dortmund', 'goals_scored': '63', 'total_wins': '19', 'total_losses': '19', 'raining_win_percentage': '0.5454545454545454'}\n",
      "{'_id': ObjectId('5cdd958df7a1b616ca92f28c'), 'name': 'Stoke', 'goals_scored': '43', 'total_wins': '13', 'total_losses': '13', 'raining_win_percentage': '0.4666666666666667'}\n",
      "{'_id': ObjectId('5cdd958df7a1b616ca92f28d'), 'name': 'Tottenham', 'goals_scored': '61', 'total_wins': '19', 'total_losses': '19', 'raining_win_percentage': '0.8571428571428571'}\n",
      "{'_id': ObjectId('5cdd958df7a1b616ca92f28e'), 'name': 'Bayern Munich', 'goals_scored': '93', 'total_wins': '23', 'total_losses': '23', 'raining_win_percentage': '0.6363636363636364'}\n",
      "{'_id': ObjectId('5cdd958df7a1b616ca92f28f'), 'name': 'St Pauli', 'goals_scored': '57', 'total_wins': '15', 'total_losses': '15', 'raining_win_percentage': '0.45454545454545453'}\n",
      "{'_id': ObjectId('5cdd958df7a1b616ca92f290'), 'name': 'Hansa Rostock', 'goals_scored': '13', 'total_wins': '1', 'total_losses': '1', 'raining_win_percentage': '0.0'}\n",
      "{'_id': ObjectId('5cdd958df7a1b616ca92f291'), 'name': 'Hoffenheim', 'goals_scored': '37', 'total_wins': '11', 'total_losses': '11', 'raining_win_percentage': '0.2727272727272727'}\n",
      "{'_id': ObjectId('5cdd958df7a1b616ca92f292'), 'name': \"M'gladbach\", 'goals_scored': '47', 'total_wins': '18', 'total_losses': '18', 'raining_win_percentage': '0.5833333333333334'}\n",
      "{'_id': ObjectId('5cdd958df7a1b616ca92f293'), 'name': 'Freiburg', 'goals_scored': '37', 'total_wins': '7', 'total_losses': '7', 'raining_win_percentage': '0.16666666666666666'}\n",
      "{'_id': ObjectId('5cdd958df7a1b616ca92f294'), 'name': 'Ingolstadt', 'goals_scored': '42', 'total_wins': '9', 'total_losses': '9', 'raining_win_percentage': '0.1875'}\n",
      "{'_id': ObjectId('5cdd958df7a1b616ca92f295'), 'name': 'Sunderland', 'goals_scored': '46', 'total_wins': '10', 'total_losses': '10', 'raining_win_percentage': '0.2857142857142857'}\n",
      "{'_id': ObjectId('5cdd958df7a1b616ca92f296'), 'name': 'West Ham', 'goals_scored': '23', 'total_wins': '4', 'total_losses': '4', 'raining_win_percentage': '0.2'}\n",
      "{'_id': ObjectId('5cdd958df7a1b616ca92f297'), 'name': 'Munich 1860', 'goals_scored': '68', 'total_wins': '17', 'total_losses': '17', 'raining_win_percentage': '0.6470588235294118'}\n",
      "{'_id': ObjectId('5cdd958df7a1b616ca92f298'), 'name': 'Hannover', 'goals_scored': '44', 'total_wins': '14', 'total_losses': '14', 'raining_win_percentage': '0.46153846153846156'}\n",
      "{'_id': ObjectId('5cdd958df7a1b616ca92f299'), 'name': 'Bochum', 'goals_scored': '53', 'total_wins': '18', 'total_losses': '18', 'raining_win_percentage': '0.5625'}\n",
      "{'_id': ObjectId('5cdd958df7a1b616ca92f29a'), 'name': 'Union Berlin', 'goals_scored': '51', 'total_wins': '15', 'total_losses': '15', 'raining_win_percentage': '0.5'}\n",
      "{'_id': ObjectId('5cdd958df7a1b616ca92f29b'), 'name': 'Braunschweig', 'goals_scored': '25', 'total_wins': '8', 'total_losses': '8', 'raining_win_percentage': '0.375'}\n",
      "{'_id': ObjectId('5cdd958df7a1b616ca92f29c'), 'name': 'Liverpool', 'goals_scored': '62', 'total_wins': '20', 'total_losses': '20', 'raining_win_percentage': '0.4375'}\n",
      "{'_id': ObjectId('5cdd958df7a1b616ca92f29d'), 'name': 'Nurnberg', 'goals_scored': '42', 'total_wins': '12', 'total_losses': '12', 'raining_win_percentage': '0.6'}\n",
      "{'_id': ObjectId('5cdd958df7a1b616ca92f29e'), 'name': 'Blackburn', 'goals_scored': '48', 'total_wins': '7', 'total_losses': '7', 'raining_win_percentage': '0.15384615384615385'}\n",
      "{'_id': ObjectId('5cdd958df7a1b616ca92f29f'), 'name': 'West Brom', 'goals_scored': '50', 'total_wins': '12', 'total_losses': '12', 'raining_win_percentage': '0.4'}\n",
      "{'_id': ObjectId('5cdd958df7a1b616ca92f2a0'), 'name': 'Wolfsburg', 'goals_scored': '42', 'total_wins': '11', 'total_losses': '11', 'raining_win_percentage': '0.38461538461538464'}\n",
      "{'_id': ObjectId('5cdd958df7a1b616ca92f2a1'), 'name': 'Arsenal', 'goals_scored': '68', 'total_wins': '19', 'total_losses': '19', 'raining_win_percentage': '0.6428571428571429'}\n"
     ]
    }
   ],
   "source": [
    "mongo_display_collection_contents(summary_collection)"
   ]
  },
  {
   "cell_type": "markdown",
   "metadata": {},
   "source": [
    "### How to add raining to matches DataFrame\n",
    "1. Get all unique dates from the matches 2011 DataFrame\n",
    "1. Make call to DarkSky API for each date\n",
    "1. Store response in dictionary\n",
    "1. Pickle the dictionary to avoid having to make API calls again\n",
    "1. Add new column to DataFrame using a map and the dictionary"
   ]
  },
  {
   "cell_type": "code",
   "execution_count": 61,
   "metadata": {},
   "outputs": [],
   "source": [
    "unique_dates = matches_df_2011[\"Date\"].unique()"
   ]
  },
  {
   "cell_type": "code",
   "execution_count": 62,
   "metadata": {},
   "outputs": [
    {
     "name": "stdout",
     "output_type": "stream",
     "text": [
      "0.0 2011-01-15\n",
      "0.005847953216374269 2011-04-23\n",
      "0.011695906432748537 2011-03-05\n",
      "0.017543859649122806 2011-01-29\n",
      "0.023391812865497075 2011-02-05\n",
      "0.029239766081871343 2011-03-19\n",
      "0.03508771929824561 2011-05-07\n",
      "0.04093567251461988 2011-02-19\n",
      "0.04678362573099415 2011-04-09\n",
      "0.05263157894736842 2011-02-26\n",
      "0.05847953216374269 2011-01-14\n",
      "0.06432748538011696 2011-03-12\n",
      "0.07017543859649122 2011-02-12\n",
      "0.07602339181286549 2011-04-30\n",
      "0.08187134502923976 2011-02-11\n",
      "0.08771929824561403 2011-03-11\n",
      "0.0935672514619883 2011-02-25\n",
      "0.09941520467836257 2011-01-21\n",
      "0.10526315789473684 2011-04-16\n",
      "0.1111111111111111 2011-04-02\n",
      "0.11695906432748537 2011-05-15\n",
      "0.12280701754385964 2011-02-06\n",
      "0.1286549707602339 2011-02-18\n",
      "0.13450292397660818 2011-04-03\n",
      "0.14035087719298245 2011-05-14\n",
      "0.14619883040935672 2011-03-04\n",
      "0.15204678362573099 2011-04-24\n",
      "0.15789473684210525 2011-01-16\n",
      "0.16374269005847952 2011-04-10\n",
      "0.1695906432748538 2011-01-30\n",
      "0.17543859649122806 2011-04-17\n",
      "0.18128654970760233 2011-01-22\n",
      "0.1871345029239766 2011-03-18\n",
      "0.19298245614035087 2011-05-08\n",
      "0.19883040935672514 2011-02-20\n",
      "0.2046783625730994 2011-02-27\n",
      "0.21052631578947367 2011-01-23\n",
      "0.21637426900584794 2011-03-13\n",
      "0.2222222222222222 2011-04-01\n",
      "0.22807017543859648 2011-02-04\n",
      "0.23391812865497075 2011-03-20\n",
      "0.23976608187134502 2011-03-06\n",
      "0.24561403508771928 2011-04-08\n",
      "0.25146198830409355 2011-04-04\n",
      "0.2573099415204678 2011-04-15\n",
      "0.2631578947368421 2011-02-13\n",
      "0.26900584795321636 2011-04-21\n",
      "0.27485380116959063 2011-01-31\n",
      "0.2807017543859649 2011-01-28\n",
      "0.28654970760233917 2011-01-17\n",
      "0.29239766081871343 2011-03-14\n",
      "0.2982456140350877 2011-04-11\n",
      "0.30409356725146197 2011-04-25\n",
      "0.30994152046783624 2011-04-29\n",
      "0.3157894736842105 2011-02-14\n",
      "0.3216374269005848 2011-02-16\n",
      "0.32748538011695905 2011-02-21\n",
      "0.3333333333333333 2011-03-21\n",
      "0.3391812865497076 2011-02-28\n",
      "0.34502923976608185 2011-01-24\n",
      "0.3508771929824561 2011-01-18\n",
      "0.3567251461988304 2011-04-18\n",
      "0.36257309941520466 2011-05-02\n",
      "0.3684210526315789 2011-02-01\n",
      "0.3742690058479532 2011-02-07\n",
      "0.38011695906432746 2011-03-07\n",
      "0.38596491228070173 2011-12-11\n",
      "0.391812865497076 2011-08-13\n",
      "0.39766081871345027 2011-11-27\n",
      "0.40350877192982454 2011-09-18\n",
      "0.4093567251461988 2011-10-23\n",
      "0.4152046783625731 2011-10-01\n",
      "0.42105263157894735 2011-08-27\n",
      "0.4269005847953216 2011-11-06\n",
      "0.4327485380116959 2011-12-17\n",
      "0.43859649122807015 2011-10-29\n",
      "0.4444444444444444 2011-12-03\n",
      "0.4502923976608187 2011-11-19\n",
      "0.45614035087719296 2011-10-14\n",
      "0.4619883040935672 2011-09-24\n",
      "0.4678362573099415 2011-12-18\n",
      "0.47368421052631576 2011-08-06\n",
      "0.47953216374269003 2011-11-04\n",
      "0.4853801169590643 2011-09-16\n",
      "0.49122807017543857 2011-07-15\n",
      "0.49707602339181284 2011-10-02\n",
      "0.5029239766081871 2011-10-22\n",
      "0.5087719298245614 2011-08-26\n",
      "0.5146198830409356 2011-08-07\n",
      "0.52046783625731 2011-07-17\n",
      "0.5263157894736842 2011-08-22\n",
      "0.5321637426900585 2011-09-09\n",
      "0.5380116959064327 2011-09-25\n",
      "0.543859649122807 2011-11-25\n",
      "0.5497076023391813 2011-11-07\n",
      "0.5555555555555556 2011-09-10\n",
      "0.5614035087719298 2011-08-21\n",
      "0.5672514619883041 2011-09-26\n",
      "0.5730994152046783 2011-10-30\n",
      "0.5789473684210527 2011-12-19\n",
      "0.5847953216374269 2011-11-26\n",
      "0.5906432748538012 2011-12-16\n",
      "0.5964912280701754 2011-11-05\n",
      "0.6023391812865497 2011-09-17\n",
      "0.6081871345029239 2011-08-20\n",
      "0.6140350877192983 2011-12-10\n",
      "0.6198830409356725 2011-10-16\n",
      "0.6257309941520468 2011-08-05\n",
      "0.631578947368421 2011-09-23\n",
      "0.6374269005847953 2011-10-15\n",
      "0.6432748538011696 2011-11-18\n",
      "0.6491228070175439 2011-12-09\n",
      "0.6549707602339181 2011-07-23\n",
      "0.6608187134502924 2011-10-28\n",
      "0.6666666666666666 2011-12-04\n",
      "0.672514619883041 2011-09-11\n",
      "0.6783625730994152 2011-09-30\n",
      "0.6842105263157895 2011-10-21\n",
      "0.6900584795321637 2011-08-14\n",
      "0.695906432748538 2011-09-12\n",
      "0.7017543859649122 2011-07-18\n",
      "0.7076023391812866 2011-08-08\n",
      "0.7134502923976608 2011-07-24\n",
      "0.7192982456140351 2011-12-13\n",
      "0.7251461988304093 2011-08-28\n",
      "0.7309941520467836 2011-08-19\n",
      "0.7368421052631579 2011-08-12\n",
      "0.7426900584795322 2011-12-02\n",
      "0.7485380116959064 2011-09-19\n",
      "0.7543859649122807 2011-07-25\n",
      "0.7602339181286549 2011-11-21\n",
      "0.7660818713450293 2011-07-22\n",
      "0.7719298245614035 2011-08-29\n",
      "0.7777777777777778 2011-11-28\n",
      "0.783625730994152 2011-12-12\n",
      "0.7894736842105263 2011-11-20\n",
      "0.7953216374269005 2011-07-16\n",
      "0.8011695906432749 2011-10-31\n",
      "0.8070175438596491 2011-10-17\n",
      "0.8128654970760234 2011-12-05\n",
      "0.8187134502923976 2011-10-03\n",
      "0.8245614035087719 2011-08-15\n",
      "0.8304093567251462 2011-01-01\n",
      "0.8362573099415205 2011-01-02\n",
      "0.8421052631578947 2011-01-04\n",
      "0.847953216374269 2011-01-05\n",
      "0.8538011695906432 2011-01-12\n",
      "0.8596491228070176 2011-01-25\n",
      "0.8654970760233918 2011-01-26\n",
      "0.8713450292397661 2011-02-02\n",
      "0.8771929824561403 2011-02-15\n",
      "0.8830409356725146 2011-02-22\n",
      "0.8888888888888888 2011-02-23\n",
      "0.8947368421052632 2011-03-01\n",
      "0.9005847953216374 2011-03-09\n",
      "0.9064327485380117 2011-04-19\n",
      "0.9122807017543859 2011-04-20\n",
      "0.9181286549707602 2011-04-26\n",
      "0.9239766081871345 2011-04-27\n",
      "0.9298245614035088 2011-05-01\n",
      "0.935672514619883 2011-05-09\n",
      "0.9415204678362573 2011-05-10\n",
      "0.9473684210526315 2011-05-17\n",
      "0.9532163742690059 2011-05-22\n",
      "0.9590643274853801 2011-12-20\n",
      "0.9649122807017544 2011-12-21\n",
      "0.9707602339181286 2011-12-22\n",
      "0.9766081871345029 2011-12-26\n",
      "0.9824561403508771 2011-12-27\n",
      "0.9883040935672515 2011-12-30\n",
      "0.9941520467836257 2011-12-31\n"
     ]
    }
   ],
   "source": [
    "rain_dict = {}\n",
    "for i, date in enumerate(unique_dates):\n",
    "    print(float(i)/len(unique_dates), date)\n",
    "    rain_dict[date] = did_it_rain_in_berlin(date)"
   ]
  },
  {
   "cell_type": "code",
   "execution_count": 63,
   "metadata": {
    "collapsed": true
   },
   "outputs": [],
   "source": [
    "import pickle"
   ]
  },
  {
   "cell_type": "code",
   "execution_count": 65,
   "metadata": {},
   "outputs": [],
   "source": [
    "pickle.dump(rain_dict, open('rain_dict_2011.pkl', 'wb'))"
   ]
  },
  {
   "cell_type": "code",
   "execution_count": 66,
   "metadata": {
    "collapsed": true
   },
   "outputs": [],
   "source": [
    "def check_matches_for_rain(matches_df, file_name=None):\n",
    "    import pickle\n",
    "    if file_name == None:\n",
    "        file_name = 'test_rain_dict.pkl'\n",
    "    unique_dates = matches_df[\"Date\"].unique()\n",
    "    rain_dict = {}\n",
    "    for i, date in enumerate(unique_dates):\n",
    "        print(float(i)/len(unique_dates), date)\n",
    "        rain_dict[date] = did_it_rain_in_berlin(date)\n",
    "    pickle.dump(rain_dict, open(file_name, 'wb'))\n",
    "    return rain_dict"
   ]
  },
  {
   "cell_type": "code",
   "execution_count": 68,
   "metadata": {},
   "outputs": [],
   "source": [
    "matches_df_2011[\"Rained\"] = matches_df_2011[\"Date\"].apply(lambda x: rain_dict[x])"
   ]
  },
  {
   "cell_type": "code",
   "execution_count": 69,
   "metadata": {
    "collapsed": true
   },
   "outputs": [],
   "source": [
    "def add_rained_to_matches_df(matches_df):\n",
    "    rain_dict = check_matches_for_rain(matches_df)\n",
    "    matches_df[\"Rained\"] = matches_df[\"Date\"].apply(lambda x: rain_dict[x])\n",
    "    return matches_df"
   ]
  },
  {
   "cell_type": "markdown",
   "metadata": {},
   "source": [
    "# Putting it all together"
   ]
  },
  {
   "cell_type": "code",
   "execution_count": null,
   "metadata": {
    "collapsed": true
   },
   "outputs": [],
   "source": []
  },
  {
   "cell_type": "markdown",
   "metadata": {},
   "source": [
    "# Summary\n",
    "\n",
    "In this lab, we dug deep and used everything we've learned so far about python programming, databases, HTTP requests and API calls to ETL data from a SQL database into a MongoDB instance!"
   ]
  }
 ],
 "metadata": {
  "kernelspec": {
   "display_name": "learn-env",
   "language": "python",
   "name": "learn-env"
  },
  "language_info": {
   "codemirror_mode": {
    "name": "ipython",
    "version": 3
   },
   "file_extension": ".py",
   "mimetype": "text/x-python",
   "name": "python",
   "nbconvert_exporter": "python",
   "pygments_lexer": "ipython3",
   "version": "3.6.6"
  }
 },
 "nbformat": 4,
 "nbformat_minor": 2
}
